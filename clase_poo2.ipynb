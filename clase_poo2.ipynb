{
 "cells": [
  {
   "cell_type": "markdown",
   "id": "d9621692",
   "metadata": {},
   "source": [
    "# Bootcamp Python Avanzado\n",
    "## Clase 12: Programación Orientada a Objetos Parte 2"
   ]
  },
  {
   "cell_type": "markdown",
   "id": "ba279785",
   "metadata": {},
   "source": [
    "## Magic Methods\n",
    "### `__init__`\n",
    "Nos permite inicializar un nuevo objeto."
   ]
  },
  {
   "cell_type": "code",
   "execution_count": 102,
   "id": "dc1ddfa5",
   "metadata": {},
   "outputs": [
    {
     "name": "stdout",
     "output_type": "stream",
     "text": [
      "large\n",
      "['pepperoni', 'mushrooms']\n"
     ]
    }
   ],
   "source": [
    "class Pizza:\n",
    "    def __init__(self, size, toppings):\n",
    "        self.size = size\n",
    "        self.toppings = toppings\n",
    "\n",
    "# Now let's create a pizza\n",
    "my_pizza = Pizza('large', ['pepperoni', 'mushrooms'])\n",
    "\n",
    "print(my_pizza.size)  # This will print: large\n",
    "print(my_pizza.toppings)  # This will print: ['pepperoni', 'mushrooms']"
   ]
  },
  {
   "cell_type": "markdown",
   "id": "c860daea",
   "metadata": {},
   "source": [
    "### `__str__`\n",
    "Nos permite definir la descripción o representación de strings de nuestro objeto."
   ]
  },
  {
   "cell_type": "code",
   "execution_count": 103,
   "id": "f64d37e1",
   "metadata": {},
   "outputs": [
    {
     "name": "stdout",
     "output_type": "stream",
     "text": [
      "A large pizza with pepperoni, mushrooms\n"
     ]
    }
   ],
   "source": [
    "class Pizza:\n",
    "    def __init__(self, size, toppings):\n",
    "        self.size = size\n",
    "        self.toppings = toppings\n",
    "\n",
    "    def __str__(self):\n",
    "        return f\"A {self.size} pizza with {', '.join(self.toppings)}\"\n",
    "\n",
    "my_pizza = Pizza('large', ['pepperoni', 'mushrooms'])\n",
    "print(my_pizza)  # This will print: A large pizza with pepperoni, mushrooms"
   ]
  },
  {
   "cell_type": "markdown",
   "id": "043e1fe9",
   "metadata": {},
   "source": [
    "### `__repr__`\n",
    "Nos permite crear una representación formal y detallada de la descripción de un objeto. Si `__str__`no es definida para un objeto automáticamente se toma `__repr__` para mostrar el objeto o convertirlo en cadena."
   ]
  },
  {
   "cell_type": "code",
   "execution_count": 104,
   "id": "d3a9006a",
   "metadata": {},
   "outputs": [
    {
     "name": "stdout",
     "output_type": "stream",
     "text": [
      "Pizza('large', ['pepperoni', 'mushrooms'])\n"
     ]
    }
   ],
   "source": [
    "class Pizza:\n",
    "    def __init__(self, size, toppings):\n",
    "        self.size = size\n",
    "        self.toppings = toppings\n",
    "\n",
    "    def __repr__(self):\n",
    "        return f\"Pizza('{self.size}', {self.toppings})\"\n",
    "\n",
    "my_pizza = Pizza('large', ['pepperoni', 'mushrooms'])\n",
    "print(repr(my_pizza))  # This will print: Pizza('large', ['pepperoni', 'mushrooms'])\n"
   ]
  },
  {
   "cell_type": "markdown",
   "id": "2d822fd9",
   "metadata": {},
   "source": [
    "### `__add__`\n",
    "Nos permite definir el comportamiento de nuestro objeto cuando llamamos el operador de suma `+`."
   ]
  },
  {
   "cell_type": "code",
   "execution_count": 107,
   "id": "347b5752",
   "metadata": {},
   "outputs": [
    {
     "name": "stdout",
     "output_type": "stream",
     "text": [
      "['pepperoni', 'mushrooms', 'olives', 'pineapple']\n",
      "large\n"
     ]
    }
   ],
   "source": [
    "class Pizza:\n",
    "    def __init__(self, size, toppings):\n",
    "        self.size = size\n",
    "        self.toppings = toppings\n",
    "\n",
    "    def __add__(self, other):\n",
    "        if not isinstance(other, Pizza):\n",
    "            raise TypeError(\"You can only add another Pizza!\")\n",
    "        new_toppings = self.toppings + other.toppings\n",
    "        return Pizza(self.size, new_toppings)\n",
    "\n",
    "# Let's create two pizzas\n",
    "pizza1 = Pizza('large', ['pepperoni', 'mushrooms'])\n",
    "pizza2 = Pizza('medium', ['olives', 'pineapple'])\n",
    "\n",
    "# And now let's \"add\" them\n",
    "combined_pizza = pizza1 + pizza2\n",
    "\n",
    "print(combined_pizza.toppings)  # This will print: ['pepperoni', 'mushrooms', 'olives', 'pineapple']\n",
    "print(combined_pizza.size)"
   ]
  },
  {
   "cell_type": "markdown",
   "id": "9f6bef05",
   "metadata": {},
   "source": [
    "### `__len__`\n",
    "Nos permite definir que se retorna cuando llamamos la función `len()` con nuestro objeto."
   ]
  },
  {
   "cell_type": "code",
   "execution_count": 114,
   "id": "7b91a2e4",
   "metadata": {},
   "outputs": [
    {
     "data": {
      "text/plain": [
       "3"
      ]
     },
     "execution_count": 114,
     "metadata": {},
     "output_type": "execute_result"
    }
   ],
   "source": [
    "class Pizza:\n",
    "    def __init__(self, size, toppings):\n",
    "        self.size = size\n",
    "        self.toppings = toppings\n",
    "\n",
    "    def __len__(self):\n",
    "        return len(self.toppings)\n",
    "\n",
    "# Let's create a pizza\n",
    "my_pizza = Pizza('large', ['pepperoni', 'mushrooms', 'olives'])\n",
    "\n",
    "len(my_pizza)  # This will print: 3"
   ]
  },
  {
   "cell_type": "markdown",
   "id": "82fe8135",
   "metadata": {},
   "source": [
    "### `__iter__`\n",
    "Permite que nuestro objeto sea una iterable o sea puede ser usado en un ciclo `for`. Para hacer esto debemos definir tambien `__next__`, esta es usada para definir el valor a retornar en la siguiente iteración."
   ]
  },
  {
   "cell_type": "code",
   "execution_count": 116,
   "id": "108b34f6",
   "metadata": {},
   "outputs": [],
   "source": [
    "class Pizza:\n",
    "    def __init__(self, size, toppings):\n",
    "        self.size = size\n",
    "        self.toppings = toppings\n"
   ]
  },
  {
   "cell_type": "code",
   "execution_count": 118,
   "id": "556d3123",
   "metadata": {},
   "outputs": [
    {
     "ename": "TypeError",
     "evalue": "unsupported operand type(s) for /: 'Pizza' and 'Pizza'",
     "output_type": "error",
     "traceback": [
      "\u001b[0;31m---------------------------------------------------------------------------\u001b[0m",
      "\u001b[0;31mTypeError\u001b[0m                                 Traceback (most recent call last)",
      "Cell \u001b[0;32mIn[118], line 3\u001b[0m\n\u001b[1;32m      1\u001b[0m my_pizza1 \u001b[38;5;241m=\u001b[39m Pizza(\u001b[38;5;124m'\u001b[39m\u001b[38;5;124mlarge\u001b[39m\u001b[38;5;124m'\u001b[39m, [\u001b[38;5;124m'\u001b[39m\u001b[38;5;124mpepperoni\u001b[39m\u001b[38;5;124m'\u001b[39m, \u001b[38;5;124m'\u001b[39m\u001b[38;5;124mmushrooms\u001b[39m\u001b[38;5;124m'\u001b[39m, \u001b[38;5;124m'\u001b[39m\u001b[38;5;124molives\u001b[39m\u001b[38;5;124m'\u001b[39m])\n\u001b[1;32m      2\u001b[0m my_pizza2 \u001b[38;5;241m=\u001b[39m Pizza(\u001b[38;5;124m'\u001b[39m\u001b[38;5;124mlarge\u001b[39m\u001b[38;5;124m'\u001b[39m, [\u001b[38;5;124m'\u001b[39m\u001b[38;5;124mpepperoni\u001b[39m\u001b[38;5;124m'\u001b[39m, \u001b[38;5;124m'\u001b[39m\u001b[38;5;124mmushrooms\u001b[39m\u001b[38;5;124m'\u001b[39m, \u001b[38;5;124m'\u001b[39m\u001b[38;5;124molives\u001b[39m\u001b[38;5;124m'\u001b[39m])\n\u001b[0;32m----> 3\u001b[0m \u001b[43mmy_pizza1\u001b[49m\u001b[43m \u001b[49m\u001b[38;5;241;43m/\u001b[39;49m\u001b[43m \u001b[49m\u001b[43mmy_pizza2\u001b[49m\n",
      "\u001b[0;31mTypeError\u001b[0m: unsupported operand type(s) for /: 'Pizza' and 'Pizza'"
     ]
    }
   ],
   "source": [
    "my_pizza1 = Pizza('large', ['pepperoni', 'mushrooms', 'olives'])\n",
    "my_pizza2 = Pizza('large', ['pepperoni', 'mushrooms', 'olives'])\n",
    "my_pizza1 / my_pizza2"
   ]
  },
  {
   "cell_type": "code",
   "execution_count": 115,
   "id": "a8a2a55e",
   "metadata": {},
   "outputs": [
    {
     "name": "stdout",
     "output_type": "stream",
     "text": [
      "pepperoni\n",
      "mushrooms\n",
      "olives\n"
     ]
    },
    {
     "data": {
      "text/plain": [
       "['__class__',\n",
       " '__delattr__',\n",
       " '__dict__',\n",
       " '__dir__',\n",
       " '__doc__',\n",
       " '__eq__',\n",
       " '__format__',\n",
       " '__ge__',\n",
       " '__getattribute__',\n",
       " '__getstate__',\n",
       " '__gt__',\n",
       " '__hash__',\n",
       " '__init__',\n",
       " '__init_subclass__',\n",
       " '__iter__',\n",
       " '__le__',\n",
       " '__lt__',\n",
       " '__module__',\n",
       " '__ne__',\n",
       " '__new__',\n",
       " '__next__',\n",
       " '__reduce__',\n",
       " '__reduce_ex__',\n",
       " '__repr__',\n",
       " '__setattr__',\n",
       " '__sizeof__',\n",
       " '__str__',\n",
       " '__subclasshook__',\n",
       " '__weakref__',\n",
       " 'n',\n",
       " 'size',\n",
       " 'toppings']"
      ]
     },
     "execution_count": 115,
     "metadata": {},
     "output_type": "execute_result"
    }
   ],
   "source": [
    "class Pizza:\n",
    "    def __init__(self, size, toppings):\n",
    "        self.size = size\n",
    "        self.toppings = toppings\n",
    "\n",
    "    def __iter__(self):\n",
    "        self.n = 0\n",
    "        return self\n",
    "\n",
    "    def __next__(self):\n",
    "        if self.n < len(self.toppings):\n",
    "            result = self.toppings[self.n]\n",
    "            self.n += 1\n",
    "            return result\n",
    "        else:\n",
    "            raise StopIteration\n",
    "\n",
    "# Let's create a pizza\n",
    "my_pizza = Pizza('large', ['pepperoni', 'mushrooms', 'olives'])\n",
    "\n",
    "# And now let's iterate over it\n",
    "for topping in my_pizza:\n",
    "    print(topping)\n",
    "    \n",
    "dir(my_pizza) "
   ]
  },
  {
   "cell_type": "markdown",
   "id": "1f7b9503",
   "metadata": {},
   "source": [
    "## Miembros Públicos, Protegidos y Privados\n",
    "### Ejemplo de Público"
   ]
  },
  {
   "cell_type": "code",
   "execution_count": 119,
   "id": "63293ba6",
   "metadata": {},
   "outputs": [],
   "source": [
    "class Student:\n",
    "    schoolName = 'XYZ School' # class attribute\n",
    "\n",
    "    def __init__(self, name, age):\n",
    "        self.name=name # instance attribute\n",
    "        self.age=age # instance attribute"
   ]
  },
  {
   "cell_type": "code",
   "execution_count": 120,
   "id": "62f744af",
   "metadata": {},
   "outputs": [
    {
     "name": "stdout",
     "output_type": "stream",
     "text": [
      "XYZ School\n",
      "Steve\n",
      "20\n"
     ]
    }
   ],
   "source": [
    "std = Student(\"Steve\", 25)\n",
    "print(std.schoolName)  #'XYZ School'\n",
    "print(std.name)  #'Steve'\n",
    "std.age = 20\n",
    "print(std.age)"
   ]
  },
  {
   "cell_type": "markdown",
   "id": "06649d53",
   "metadata": {},
   "source": [
    "### Ejemplo de Protegido"
   ]
  },
  {
   "cell_type": "code",
   "execution_count": 121,
   "id": "053fd547",
   "metadata": {},
   "outputs": [],
   "source": [
    "class Student:\n",
    "    _schoolName = 'XYZ School' # protected class attribute\n",
    "    \n",
    "    def __init__(self, name, age):\n",
    "        self._name=name  # protected instance attribute\n",
    "        self._age=age # protected instance attribute"
   ]
  },
  {
   "cell_type": "code",
   "execution_count": 122,
   "id": "0f3075cb",
   "metadata": {},
   "outputs": [
    {
     "name": "stdout",
     "output_type": "stream",
     "text": [
      "Swati\n",
      "Dipa\n"
     ]
    }
   ],
   "source": [
    "std = Student(\"Swati\", 25)\n",
    "print(std._name)  #'Swati'\n",
    "\n",
    "std._name = 'Dipa'\n",
    "print(std._name)  #'Dipa'"
   ]
  },
  {
   "cell_type": "markdown",
   "id": "66529253",
   "metadata": {},
   "source": [
    "_Nota: Podemos ver que se pueden acceder los atributos protegidos sin problema, más adelante usaremos `Properties` para hacerlos realmente protegidos_"
   ]
  },
  {
   "cell_type": "markdown",
   "id": "fb17963a",
   "metadata": {},
   "source": [
    "### Ejemplo de Privado"
   ]
  },
  {
   "cell_type": "code",
   "execution_count": 123,
   "id": "6b0d3e99",
   "metadata": {},
   "outputs": [
    {
     "ename": "AttributeError",
     "evalue": "'Student' object has no attribute '__schoolName'",
     "output_type": "error",
     "traceback": [
      "\u001b[0;31m---------------------------------------------------------------------------\u001b[0m",
      "\u001b[0;31mAttributeError\u001b[0m                            Traceback (most recent call last)",
      "Cell \u001b[0;32mIn[123], line 11\u001b[0m\n\u001b[1;32m      8\u001b[0m         \u001b[38;5;28mprint\u001b[39m(\u001b[38;5;124m'\u001b[39m\u001b[38;5;124mThis is private method.\u001b[39m\u001b[38;5;124m'\u001b[39m)\n\u001b[1;32m     10\u001b[0m std \u001b[38;5;241m=\u001b[39m Student(\u001b[38;5;124m\"\u001b[39m\u001b[38;5;124mBill\u001b[39m\u001b[38;5;124m\"\u001b[39m, \u001b[38;5;241m25\u001b[39m)\n\u001b[0;32m---> 11\u001b[0m \u001b[38;5;28mprint\u001b[39m(\u001b[43mstd\u001b[49m\u001b[38;5;241;43m.\u001b[39;49m\u001b[43m__schoolName\u001b[49m) \u001b[38;5;66;03m#AttributeError\u001b[39;00m\n\u001b[1;32m     12\u001b[0m \u001b[38;5;28mprint\u001b[39m(std\u001b[38;5;241m.\u001b[39m__name)   \u001b[38;5;66;03m#AttributeError\u001b[39;00m\n\u001b[1;32m     13\u001b[0m \u001b[38;5;28mprint\u001b[39m(std\u001b[38;5;241m.\u001b[39m__display())  \u001b[38;5;66;03m#AttributeError\u001b[39;00m\n",
      "\u001b[0;31mAttributeError\u001b[0m: 'Student' object has no attribute '__schoolName'"
     ]
    }
   ],
   "source": [
    "class Student:\n",
    "    __schoolName = 'XYZ School' # private class attribute\n",
    "\n",
    "    def __init__(self, name, age):\n",
    "        self.__name=name  # private instance attribute\n",
    "        self.__salary=age # private instance attribute\n",
    "    def __display(self):  # private method\n",
    "        print('This is private method.')\n",
    "\n",
    "std = Student(\"Bill\", 25)\n",
    "print(std.__schoolName) #AttributeError\n",
    "print(std.__name)   #AttributeError\n",
    "print(std.__display())  #AttributeError"
   ]
  },
  {
   "cell_type": "markdown",
   "id": "69f037a3",
   "metadata": {},
   "source": [
    "## Name Mangling"
   ]
  },
  {
   "cell_type": "code",
   "execution_count": 124,
   "id": "6d633c7d",
   "metadata": {},
   "outputs": [
    {
     "name": "stdout",
     "output_type": "stream",
     "text": [
      "Santhosh\n"
     ]
    },
    {
     "ename": "AttributeError",
     "evalue": "'Student' object has no attribute '__name'",
     "output_type": "error",
     "traceback": [
      "\u001b[0;31m---------------------------------------------------------------------------\u001b[0m",
      "\u001b[0;31mAttributeError\u001b[0m                            Traceback (most recent call last)",
      "Cell \u001b[0;32mIn[124], line 12\u001b[0m\n\u001b[1;32m      9\u001b[0m s1\u001b[38;5;241m.\u001b[39mdisplayName()\n\u001b[1;32m     11\u001b[0m \u001b[38;5;66;03m# Raises an error\u001b[39;00m\n\u001b[0;32m---> 12\u001b[0m \u001b[38;5;28mprint\u001b[39m(\u001b[43ms1\u001b[49m\u001b[38;5;241;43m.\u001b[39;49m\u001b[43m__name\u001b[49m)\n",
      "\u001b[0;31mAttributeError\u001b[0m: 'Student' object has no attribute '__name'"
     ]
    }
   ],
   "source": [
    "class Student:\n",
    "    def __init__(self, name):\n",
    "        self.__name = name\n",
    "  \n",
    "    def displayName(self):\n",
    "        print(self.__name)\n",
    "  \n",
    "s1 = Student(\"Santhosh\")\n",
    "s1.displayName()\n",
    "  \n",
    "# Raises an error\n",
    "print(s1.__name)"
   ]
  },
  {
   "cell_type": "code",
   "execution_count": 126,
   "id": "b335d199",
   "metadata": {},
   "outputs": [
    {
     "name": "stdout",
     "output_type": "stream",
     "text": [
      "['_Student__name', '__class__', '__delattr__', '__dict__', '__dir__', '__doc__', '__eq__', '__format__', '__ge__', '__getattribute__', '__getstate__', '__gt__', '__hash__', '__init__', '__init_subclass__', '__le__', '__lt__', '__module__', '__ne__', '__new__', '__reduce__', '__reduce_ex__', '__repr__', '__setattr__', '__sizeof__', '__str__', '__subclasshook__', '__weakref__']\n"
     ]
    }
   ],
   "source": [
    "# Con dir() podemos ver el name mangling process que es hecho en las variables de la clase.\n",
    "\n",
    "class Student:\n",
    "    def __init__(self, name):\n",
    "        self.__name = name\n",
    "  \n",
    "s1 = Student(\"Santhosh\")\n",
    "print(dir(s1))"
   ]
  },
  {
   "cell_type": "code",
   "execution_count": 130,
   "id": "88ef3ab3",
   "metadata": {},
   "outputs": [
    {
     "name": "stdout",
     "output_type": "stream",
     "text": [
      "Santhosh\n"
     ]
    }
   ],
   "source": [
    "class Student:\n",
    "    def __init__(self, name):\n",
    "        self.__name = name\n",
    "  \n",
    "s1 = Student(\"Santhosh\")\n",
    "print(s1._Student__name)"
   ]
  },
  {
   "cell_type": "markdown",
   "id": "b6193a8d",
   "metadata": {},
   "source": [
    "## Properties"
   ]
  },
  {
   "cell_type": "code",
   "execution_count": 131,
   "id": "124c9b10",
   "metadata": {},
   "outputs": [],
   "source": [
    "class Point:\n",
    "    def __init__(self, x, y):\n",
    "        self._x = x\n",
    "        self._y = y\n",
    "\n",
    "    def get_x(self):\n",
    "        return self._x\n",
    "\n",
    "    def set_x(self, value):\n",
    "        self._x = value\n",
    "\n",
    "    def get_y(self):\n",
    "        return self._y\n",
    "\n",
    "    def set_y(self, value):\n",
    "        self._y = value"
   ]
  },
  {
   "cell_type": "code",
   "execution_count": 132,
   "id": "24a406be",
   "metadata": {},
   "outputs": [],
   "source": [
    "point = Point(5, 9)"
   ]
  },
  {
   "cell_type": "code",
   "execution_count": 133,
   "id": "4c1330f8",
   "metadata": {},
   "outputs": [
    {
     "data": {
      "text/plain": [
       "5"
      ]
     },
     "execution_count": 133,
     "metadata": {},
     "output_type": "execute_result"
    }
   ],
   "source": [
    "point.get_x()"
   ]
  },
  {
   "cell_type": "code",
   "execution_count": 134,
   "id": "37add372",
   "metadata": {},
   "outputs": [
    {
     "data": {
      "text/plain": [
       "9"
      ]
     },
     "execution_count": 134,
     "metadata": {},
     "output_type": "execute_result"
    }
   ],
   "source": [
    "point.get_y()"
   ]
  },
  {
   "cell_type": "code",
   "execution_count": 135,
   "id": "8ab7f4d0",
   "metadata": {},
   "outputs": [],
   "source": [
    "point.set_x(8)"
   ]
  },
  {
   "cell_type": "code",
   "execution_count": 136,
   "id": "7f9797c6",
   "metadata": {},
   "outputs": [
    {
     "data": {
      "text/plain": [
       "8"
      ]
     },
     "execution_count": 136,
     "metadata": {},
     "output_type": "execute_result"
    }
   ],
   "source": [
    "point.get_x()"
   ]
  },
  {
   "cell_type": "code",
   "execution_count": 137,
   "id": "9a610794",
   "metadata": {},
   "outputs": [
    {
     "data": {
      "text/plain": [
       "8"
      ]
     },
     "execution_count": 137,
     "metadata": {},
     "output_type": "execute_result"
    }
   ],
   "source": [
    "point._x"
   ]
  },
  {
   "cell_type": "markdown",
   "id": "068ba35d",
   "metadata": {},
   "source": [
    "### Creando properties con la inicialización de la función `property()`"
   ]
  },
  {
   "cell_type": "code",
   "execution_count": 140,
   "id": "5765655a",
   "metadata": {},
   "outputs": [],
   "source": [
    "class Circle:\n",
    "    def __init__(self, radius):\n",
    "        self._radius = radius\n",
    "\n",
    "    def _get_radius(self):\n",
    "        print(\"Get radius\")\n",
    "        return self._radius\n",
    "\n",
    "    def _set_radius(self, value):\n",
    "        print(\"Set radius\")\n",
    "        self._radius = value\n",
    "\n",
    "    def _del_radius(self):\n",
    "        print(\"Delete radius\")\n",
    "        del self._radius\n",
    "\n",
    "    radius = property(\n",
    "        fget=_get_radius,\n",
    "        fset=_set_radius,\n",
    "        fdel=_del_radius,\n",
    "        doc=\"The radius property.\"\n",
    "    )"
   ]
  },
  {
   "cell_type": "code",
   "execution_count": 141,
   "id": "f2f70c36",
   "metadata": {},
   "outputs": [],
   "source": [
    "circle = Circle(42.0)"
   ]
  },
  {
   "cell_type": "code",
   "execution_count": 142,
   "id": "b26c0231",
   "metadata": {},
   "outputs": [
    {
     "name": "stdout",
     "output_type": "stream",
     "text": [
      "Get radius\n"
     ]
    },
    {
     "data": {
      "text/plain": [
       "42.0"
      ]
     },
     "execution_count": 142,
     "metadata": {},
     "output_type": "execute_result"
    }
   ],
   "source": [
    "circle.radius"
   ]
  },
  {
   "cell_type": "code",
   "execution_count": 143,
   "id": "e512aecd",
   "metadata": {},
   "outputs": [
    {
     "name": "stdout",
     "output_type": "stream",
     "text": [
      "Set radius\n"
     ]
    }
   ],
   "source": [
    "circle.radius = 50"
   ]
  },
  {
   "cell_type": "code",
   "execution_count": 144,
   "id": "2818b5d3",
   "metadata": {},
   "outputs": [
    {
     "name": "stdout",
     "output_type": "stream",
     "text": [
      "Get radius\n"
     ]
    },
    {
     "data": {
      "text/plain": [
       "50"
      ]
     },
     "execution_count": 144,
     "metadata": {},
     "output_type": "execute_result"
    }
   ],
   "source": [
    "circle.radius"
   ]
  },
  {
   "cell_type": "code",
   "execution_count": 145,
   "id": "785587c8",
   "metadata": {},
   "outputs": [
    {
     "name": "stdout",
     "output_type": "stream",
     "text": [
      "Delete radius\n"
     ]
    }
   ],
   "source": [
    "del circle.radius"
   ]
  },
  {
   "cell_type": "code",
   "execution_count": 147,
   "id": "bb8e8224",
   "metadata": {},
   "outputs": [
    {
     "name": "stdout",
     "output_type": "stream",
     "text": [
      "Get radius\n"
     ]
    },
    {
     "ename": "AttributeError",
     "evalue": "'Circle' object has no attribute '_radius'",
     "output_type": "error",
     "traceback": [
      "\u001b[0;31m---------------------------------------------------------------------------\u001b[0m",
      "\u001b[0;31mAttributeError\u001b[0m                            Traceback (most recent call last)",
      "Cell \u001b[0;32mIn[147], line 1\u001b[0m\n\u001b[0;32m----> 1\u001b[0m \u001b[43mcircle\u001b[49m\u001b[38;5;241;43m.\u001b[39;49m\u001b[43mradius\u001b[49m\n",
      "Cell \u001b[0;32mIn[140], line 7\u001b[0m, in \u001b[0;36mCircle._get_radius\u001b[0;34m(self)\u001b[0m\n\u001b[1;32m      5\u001b[0m \u001b[38;5;28;01mdef\u001b[39;00m \u001b[38;5;21m_get_radius\u001b[39m(\u001b[38;5;28mself\u001b[39m):\n\u001b[1;32m      6\u001b[0m     \u001b[38;5;28mprint\u001b[39m(\u001b[38;5;124m\"\u001b[39m\u001b[38;5;124mGet radius\u001b[39m\u001b[38;5;124m\"\u001b[39m)\n\u001b[0;32m----> 7\u001b[0m     \u001b[38;5;28;01mreturn\u001b[39;00m \u001b[38;5;28;43mself\u001b[39;49m\u001b[38;5;241;43m.\u001b[39;49m\u001b[43m_radius\u001b[49m\n",
      "\u001b[0;31mAttributeError\u001b[0m: 'Circle' object has no attribute '_radius'"
     ]
    }
   ],
   "source": [
    "circle.radius"
   ]
  },
  {
   "cell_type": "markdown",
   "id": "c917be26",
   "metadata": {},
   "source": [
    "### Usando `property()` como decorador"
   ]
  },
  {
   "cell_type": "code",
   "execution_count": 15,
   "id": "a4899f78",
   "metadata": {},
   "outputs": [],
   "source": [
    "class Circle:\n",
    "    def __init__(self, radius):\n",
    "        self._radius = radius\n",
    "\n",
    "    @property\n",
    "    def radius(self):\n",
    "        \"\"\"The radius property.\"\"\"\n",
    "        print(\"Get radius\")\n",
    "        return self._radius\n",
    "\n",
    "    @radius.setter\n",
    "    def radius(self, value):\n",
    "        print(\"Set radius\")\n",
    "        self._radius = value\n",
    "\n",
    "    @radius.deleter\n",
    "    def radius(self):\n",
    "        print(\"Delete radius\")\n",
    "        del self._radius"
   ]
  },
  {
   "cell_type": "code",
   "execution_count": 150,
   "id": "26b271ad",
   "metadata": {},
   "outputs": [],
   "source": [
    "circle = Circle(42.0)"
   ]
  },
  {
   "cell_type": "code",
   "execution_count": 151,
   "id": "7ba46942",
   "metadata": {},
   "outputs": [
    {
     "name": "stdout",
     "output_type": "stream",
     "text": [
      "Get radius\n"
     ]
    },
    {
     "data": {
      "text/plain": [
       "42.0"
      ]
     },
     "execution_count": 151,
     "metadata": {},
     "output_type": "execute_result"
    }
   ],
   "source": [
    "circle.radius"
   ]
  },
  {
   "cell_type": "code",
   "execution_count": 152,
   "id": "8b1362f9",
   "metadata": {},
   "outputs": [
    {
     "name": "stdout",
     "output_type": "stream",
     "text": [
      "Set radius\n"
     ]
    }
   ],
   "source": [
    "circle.radius = 50"
   ]
  },
  {
   "cell_type": "code",
   "execution_count": 153,
   "id": "5a4fae58",
   "metadata": {},
   "outputs": [
    {
     "name": "stdout",
     "output_type": "stream",
     "text": [
      "Get radius\n"
     ]
    },
    {
     "data": {
      "text/plain": [
       "50"
      ]
     },
     "execution_count": 153,
     "metadata": {},
     "output_type": "execute_result"
    }
   ],
   "source": [
    "circle.radius"
   ]
  },
  {
   "cell_type": "code",
   "execution_count": 154,
   "id": "4f0fcdfa",
   "metadata": {},
   "outputs": [
    {
     "name": "stdout",
     "output_type": "stream",
     "text": [
      "Delete radius\n"
     ]
    }
   ],
   "source": [
    "del circle.radius"
   ]
  },
  {
   "cell_type": "code",
   "execution_count": 155,
   "id": "8c98372f",
   "metadata": {},
   "outputs": [
    {
     "name": "stdout",
     "output_type": "stream",
     "text": [
      "Get radius\n"
     ]
    },
    {
     "ename": "AttributeError",
     "evalue": "'Circle' object has no attribute '_radius'",
     "output_type": "error",
     "traceback": [
      "\u001b[0;31m---------------------------------------------------------------------------\u001b[0m",
      "\u001b[0;31mAttributeError\u001b[0m                            Traceback (most recent call last)",
      "Cell \u001b[0;32mIn[155], line 1\u001b[0m\n\u001b[0;32m----> 1\u001b[0m \u001b[43mcircle\u001b[49m\u001b[38;5;241;43m.\u001b[39;49m\u001b[43mradius\u001b[49m\n",
      "Cell \u001b[0;32mIn[140], line 7\u001b[0m, in \u001b[0;36mCircle._get_radius\u001b[0;34m(self)\u001b[0m\n\u001b[1;32m      5\u001b[0m \u001b[38;5;28;01mdef\u001b[39;00m \u001b[38;5;21m_get_radius\u001b[39m(\u001b[38;5;28mself\u001b[39m):\n\u001b[1;32m      6\u001b[0m     \u001b[38;5;28mprint\u001b[39m(\u001b[38;5;124m\"\u001b[39m\u001b[38;5;124mGet radius\u001b[39m\u001b[38;5;124m\"\u001b[39m)\n\u001b[0;32m----> 7\u001b[0m     \u001b[38;5;28;01mreturn\u001b[39;00m \u001b[38;5;28;43mself\u001b[39;49m\u001b[38;5;241;43m.\u001b[39;49m\u001b[43m_radius\u001b[49m\n",
      "\u001b[0;31mAttributeError\u001b[0m: 'Circle' object has no attribute '_radius'"
     ]
    }
   ],
   "source": [
    "circle.radius"
   ]
  },
  {
   "cell_type": "markdown",
   "id": "43cde4cb",
   "metadata": {},
   "source": [
    "### Creando atributos de solo lectura"
   ]
  },
  {
   "cell_type": "code",
   "execution_count": 156,
   "id": "e3b081c2",
   "metadata": {},
   "outputs": [],
   "source": [
    "class Point:\n",
    "    def __init__(self, x, y):\n",
    "        self._x = x\n",
    "        self._y = y\n",
    "\n",
    "    @property\n",
    "    def x(self):\n",
    "        return self._x\n",
    "\n",
    "    @property\n",
    "    def y(self):\n",
    "        return self._y"
   ]
  },
  {
   "cell_type": "code",
   "execution_count": 157,
   "id": "061c81d7",
   "metadata": {},
   "outputs": [],
   "source": [
    "point = Point(12, 5)"
   ]
  },
  {
   "cell_type": "code",
   "execution_count": 158,
   "id": "7a4ecd80",
   "metadata": {},
   "outputs": [
    {
     "data": {
      "text/plain": [
       "12"
      ]
     },
     "execution_count": 158,
     "metadata": {},
     "output_type": "execute_result"
    }
   ],
   "source": [
    "point.x"
   ]
  },
  {
   "cell_type": "code",
   "execution_count": 159,
   "id": "d07db72f",
   "metadata": {},
   "outputs": [
    {
     "data": {
      "text/plain": [
       "5"
      ]
     },
     "execution_count": 159,
     "metadata": {},
     "output_type": "execute_result"
    }
   ],
   "source": [
    "point.y"
   ]
  },
  {
   "cell_type": "code",
   "execution_count": 160,
   "id": "397988a2",
   "metadata": {},
   "outputs": [
    {
     "ename": "AttributeError",
     "evalue": "property 'x' of 'Point' object has no setter",
     "output_type": "error",
     "traceback": [
      "\u001b[0;31m---------------------------------------------------------------------------\u001b[0m",
      "\u001b[0;31mAttributeError\u001b[0m                            Traceback (most recent call last)",
      "Cell \u001b[0;32mIn[160], line 1\u001b[0m\n\u001b[0;32m----> 1\u001b[0m \u001b[43mpoint\u001b[49m\u001b[38;5;241;43m.\u001b[39;49m\u001b[43mx\u001b[49m \u001b[38;5;241m=\u001b[39m \u001b[38;5;241m10\u001b[39m\n",
      "\u001b[0;31mAttributeError\u001b[0m: property 'x' of 'Point' object has no setter"
     ]
    }
   ],
   "source": [
    "point.x = 10"
   ]
  },
  {
   "cell_type": "code",
   "execution_count": 161,
   "id": "3edc75aa",
   "metadata": {},
   "outputs": [],
   "source": [
    "point._x = 10"
   ]
  },
  {
   "cell_type": "code",
   "execution_count": 162,
   "id": "bc7991ec",
   "metadata": {},
   "outputs": [
    {
     "data": {
      "text/plain": [
       "10"
      ]
     },
     "execution_count": 162,
     "metadata": {},
     "output_type": "execute_result"
    }
   ],
   "source": [
    "point.x"
   ]
  },
  {
   "cell_type": "code",
   "execution_count": 163,
   "id": "0f921042",
   "metadata": {},
   "outputs": [
    {
     "ename": "AttributeError",
     "evalue": "property 'x' of 'Point' object has no deleter",
     "output_type": "error",
     "traceback": [
      "\u001b[0;31m---------------------------------------------------------------------------\u001b[0m",
      "\u001b[0;31mAttributeError\u001b[0m                            Traceback (most recent call last)",
      "Cell \u001b[0;32mIn[163], line 1\u001b[0m\n\u001b[0;32m----> 1\u001b[0m \u001b[38;5;28;01mdel\u001b[39;00m \u001b[43mpoint\u001b[49m\u001b[38;5;241;43m.\u001b[39;49m\u001b[43mx\u001b[49m\n",
      "\u001b[0;31mAttributeError\u001b[0m: property 'x' of 'Point' object has no deleter"
     ]
    }
   ],
   "source": [
    "del point.x"
   ]
  },
  {
   "cell_type": "markdown",
   "id": "fc6051c3",
   "metadata": {},
   "source": [
    "### Creando atributos de solo escritura"
   ]
  },
  {
   "cell_type": "code",
   "execution_count": 164,
   "id": "5acee488",
   "metadata": {},
   "outputs": [],
   "source": [
    "import hashlib\n",
    "import os\n",
    "\n",
    "class User:\n",
    "    def __init__(self, name, password):\n",
    "        self.name = name\n",
    "        self.password = password\n",
    "\n",
    "    @property\n",
    "    def password(self):\n",
    "        raise AttributeError(\"Password is write-only\")\n",
    "\n",
    "    @password.setter\n",
    "    def password(self, plaintext):\n",
    "        salt = os.urandom(32)\n",
    "        self._hashed_password = hashlib.pbkdf2_hmac(\n",
    "            \"sha256\", plaintext.encode(\"utf-8\"), salt, 100_000\n",
    "        )"
   ]
  },
  {
   "cell_type": "code",
   "execution_count": 165,
   "id": "40f35625",
   "metadata": {},
   "outputs": [],
   "source": [
    "user = User(\"Carolina\", \"secure_password\")"
   ]
  },
  {
   "cell_type": "code",
   "execution_count": 166,
   "id": "5a0a1c1e",
   "metadata": {},
   "outputs": [
    {
     "ename": "AttributeError",
     "evalue": "Password is write-only",
     "output_type": "error",
     "traceback": [
      "\u001b[0;31m---------------------------------------------------------------------------\u001b[0m",
      "\u001b[0;31mAttributeError\u001b[0m                            Traceback (most recent call last)",
      "Cell \u001b[0;32mIn[166], line 1\u001b[0m\n\u001b[0;32m----> 1\u001b[0m \u001b[43muser\u001b[49m\u001b[38;5;241;43m.\u001b[39;49m\u001b[43mpassword\u001b[49m\n",
      "Cell \u001b[0;32mIn[164], line 11\u001b[0m, in \u001b[0;36mUser.password\u001b[0;34m(self)\u001b[0m\n\u001b[1;32m      9\u001b[0m \u001b[38;5;129m@property\u001b[39m\n\u001b[1;32m     10\u001b[0m \u001b[38;5;28;01mdef\u001b[39;00m \u001b[38;5;21mpassword\u001b[39m(\u001b[38;5;28mself\u001b[39m):\n\u001b[0;32m---> 11\u001b[0m     \u001b[38;5;28;01mraise\u001b[39;00m \u001b[38;5;167;01mAttributeError\u001b[39;00m(\u001b[38;5;124m\"\u001b[39m\u001b[38;5;124mPassword is write-only\u001b[39m\u001b[38;5;124m\"\u001b[39m)\n",
      "\u001b[0;31mAttributeError\u001b[0m: Password is write-only"
     ]
    }
   ],
   "source": [
    "user.password"
   ]
  },
  {
   "cell_type": "code",
   "execution_count": 167,
   "id": "bab7f1a7",
   "metadata": {},
   "outputs": [],
   "source": [
    "user.password = \"another_Secure_password\""
   ]
  },
  {
   "cell_type": "code",
   "execution_count": 168,
   "id": "8ac0d410",
   "metadata": {},
   "outputs": [
    {
     "data": {
      "text/plain": [
       "b'|\\xcb^;\\xe3\\xa4@\\xfc\\x1a\\xac\\xb15.Y\\x992g\\x95\\x19WOq\\xd0\\xe9\\xee\\x06\\x1dPT\\xe3\\xca8'"
      ]
     },
     "execution_count": 168,
     "metadata": {},
     "output_type": "execute_result"
    }
   ],
   "source": [
    "user._hashed_password"
   ]
  },
  {
   "cell_type": "markdown",
   "id": "58f82d44",
   "metadata": {},
   "source": [
    "## Algunos casos de uso de las `properties()`"
   ]
  },
  {
   "cell_type": "markdown",
   "id": "a2f9ec17",
   "metadata": {},
   "source": [
    "### 1. Validando atributos"
   ]
  },
  {
   "cell_type": "code",
   "execution_count": 169,
   "id": "3dd86528",
   "metadata": {},
   "outputs": [],
   "source": [
    "class Point:\n",
    "    def __init__(self, x, y):\n",
    "        self.x = x\n",
    "        self.y = y\n",
    "\n",
    "    @property\n",
    "    def x(self):\n",
    "        return self._x\n",
    "\n",
    "    @x.setter\n",
    "    def x(self, value):\n",
    "        try:\n",
    "            self._x = float(value)\n",
    "            print(\"Validated!\")\n",
    "        except ValueError:\n",
    "            raise ValueError('\"x\" must be a number') from None\n",
    "\n",
    "    @property\n",
    "    def y(self):\n",
    "        return self._y\n",
    "\n",
    "    @y.setter\n",
    "    def y(self, value):\n",
    "        try:\n",
    "            self._y = float(value)\n",
    "            print(\"Validated!\")\n",
    "        except ValueError:\n",
    "            raise ValueError('\"y\" must be a number') from None"
   ]
  },
  {
   "cell_type": "code",
   "execution_count": 170,
   "id": "aedeb098",
   "metadata": {},
   "outputs": [
    {
     "name": "stdout",
     "output_type": "stream",
     "text": [
      "Validated!\n",
      "Validated!\n"
     ]
    }
   ],
   "source": [
    "point = Point(2, 5)"
   ]
  },
  {
   "cell_type": "code",
   "execution_count": 171,
   "id": "c6344322",
   "metadata": {},
   "outputs": [
    {
     "ename": "ValueError",
     "evalue": "\"x\" must be a number",
     "output_type": "error",
     "traceback": [
      "\u001b[0;31m---------------------------------------------------------------------------\u001b[0m",
      "\u001b[0;31mValueError\u001b[0m                                Traceback (most recent call last)",
      "Cell \u001b[0;32mIn[171], line 1\u001b[0m\n\u001b[0;32m----> 1\u001b[0m \u001b[43mpoint\u001b[49m\u001b[38;5;241;43m.\u001b[39;49m\u001b[43mx\u001b[49m \u001b[38;5;241m=\u001b[39m \u001b[38;5;124m\"\u001b[39m\u001b[38;5;124mhola\u001b[39m\u001b[38;5;124m\"\u001b[39m\n",
      "Cell \u001b[0;32mIn[169], line 16\u001b[0m, in \u001b[0;36mPoint.x\u001b[0;34m(self, value)\u001b[0m\n\u001b[1;32m     14\u001b[0m     \u001b[38;5;28mprint\u001b[39m(\u001b[38;5;124m\"\u001b[39m\u001b[38;5;124mValidated!\u001b[39m\u001b[38;5;124m\"\u001b[39m)\n\u001b[1;32m     15\u001b[0m \u001b[38;5;28;01mexcept\u001b[39;00m \u001b[38;5;167;01mValueError\u001b[39;00m:\n\u001b[0;32m---> 16\u001b[0m     \u001b[38;5;28;01mraise\u001b[39;00m \u001b[38;5;167;01mValueError\u001b[39;00m(\u001b[38;5;124m'\u001b[39m\u001b[38;5;124m\"\u001b[39m\u001b[38;5;124mx\u001b[39m\u001b[38;5;124m\"\u001b[39m\u001b[38;5;124m must be a number\u001b[39m\u001b[38;5;124m'\u001b[39m) \u001b[38;5;28;01mfrom\u001b[39;00m \u001b[38;5;28;01mNone\u001b[39;00m\n",
      "\u001b[0;31mValueError\u001b[0m: \"x\" must be a number"
     ]
    }
   ],
   "source": [
    "point.x = \"hola\""
   ]
  },
  {
   "cell_type": "markdown",
   "id": "4e7b03e6",
   "metadata": {},
   "source": [
    "### 2. Para agregar atributos que requieren algún calculo"
   ]
  },
  {
   "cell_type": "code",
   "execution_count": 172,
   "id": "17ee1c8d",
   "metadata": {},
   "outputs": [],
   "source": [
    "class Rectangle:\n",
    "    def __init__(self, width, height):\n",
    "        self.width = width\n",
    "        self.height = height\n",
    "\n",
    "    @property\n",
    "    def area(self):\n",
    "        return self.width * self.height"
   ]
  },
  {
   "cell_type": "code",
   "execution_count": 173,
   "id": "e16bc8b0",
   "metadata": {},
   "outputs": [],
   "source": [
    "rectangle = Rectangle(30, 50)"
   ]
  },
  {
   "cell_type": "code",
   "execution_count": 174,
   "id": "c0ab8ba8",
   "metadata": {},
   "outputs": [
    {
     "data": {
      "text/plain": [
       "1500"
      ]
     },
     "execution_count": 174,
     "metadata": {},
     "output_type": "execute_result"
    }
   ],
   "source": [
    "rectangle.area"
   ]
  },
  {
   "cell_type": "markdown",
   "id": "6e530af8",
   "metadata": {},
   "source": [
    "## Métodos de instancia, métodos de clase y métodos estáticos"
   ]
  },
  {
   "cell_type": "code",
   "execution_count": 175,
   "id": "451f76bc",
   "metadata": {},
   "outputs": [],
   "source": [
    "class MyClass:\n",
    "    def method(self):\n",
    "        \"\"\" Instance method \"\"\"\n",
    "        return 'instance method called', self\n",
    "\n",
    "    @classmethod\n",
    "    def class_method(cls):\n",
    "        \"\"\" Class method \"\"\"\n",
    "        return 'class method called', cls\n",
    "\n",
    "    @staticmethod\n",
    "    def static_method():\n",
    "        \"\"\" Static method \"\"\"\n",
    "        return 'static method called'"
   ]
  },
  {
   "cell_type": "code",
   "execution_count": 176,
   "id": "f810b8b8",
   "metadata": {},
   "outputs": [],
   "source": [
    "obj = MyClass()"
   ]
  },
  {
   "cell_type": "code",
   "execution_count": 177,
   "id": "650bedf0",
   "metadata": {},
   "outputs": [
    {
     "data": {
      "text/plain": [
       "('instance method called', <__main__.MyClass at 0x1077eb5d0>)"
      ]
     },
     "execution_count": 177,
     "metadata": {},
     "output_type": "execute_result"
    }
   ],
   "source": [
    "obj.method()"
   ]
  },
  {
   "cell_type": "code",
   "execution_count": 178,
   "id": "0d787513",
   "metadata": {},
   "outputs": [
    {
     "data": {
      "text/plain": [
       "('instance method called', <__main__.MyClass at 0x1077eb5d0>)"
      ]
     },
     "execution_count": 178,
     "metadata": {},
     "output_type": "execute_result"
    }
   ],
   "source": [
    "MyClass.method(obj)"
   ]
  },
  {
   "cell_type": "code",
   "execution_count": 179,
   "id": "93af1eea",
   "metadata": {},
   "outputs": [
    {
     "data": {
      "text/plain": [
       "('class method called', __main__.MyClass)"
      ]
     },
     "execution_count": 179,
     "metadata": {},
     "output_type": "execute_result"
    }
   ],
   "source": [
    "obj.class_method()"
   ]
  },
  {
   "cell_type": "code",
   "execution_count": 180,
   "id": "8fce480e",
   "metadata": {},
   "outputs": [
    {
     "data": {
      "text/plain": [
       "'static method called'"
      ]
     },
     "execution_count": 180,
     "metadata": {},
     "output_type": "execute_result"
    }
   ],
   "source": [
    "obj.static_method()"
   ]
  },
  {
   "cell_type": "markdown",
   "id": "780379f1",
   "metadata": {},
   "source": [
    "### ¿Qué pasa si accedemos a los metodos sin instanciar un objeto de la clase?"
   ]
  },
  {
   "cell_type": "code",
   "execution_count": 181,
   "id": "84829a74",
   "metadata": {},
   "outputs": [
    {
     "data": {
      "text/plain": [
       "('class method called', __main__.MyClass)"
      ]
     },
     "execution_count": 181,
     "metadata": {},
     "output_type": "execute_result"
    }
   ],
   "source": [
    "MyClass.class_method()"
   ]
  },
  {
   "cell_type": "code",
   "execution_count": 182,
   "id": "531ff603",
   "metadata": {},
   "outputs": [
    {
     "data": {
      "text/plain": [
       "'static method called'"
      ]
     },
     "execution_count": 182,
     "metadata": {},
     "output_type": "execute_result"
    }
   ],
   "source": [
    "MyClass.static_method()"
   ]
  },
  {
   "cell_type": "code",
   "execution_count": 183,
   "id": "7dc28c78",
   "metadata": {},
   "outputs": [
    {
     "ename": "TypeError",
     "evalue": "MyClass.method() missing 1 required positional argument: 'self'",
     "output_type": "error",
     "traceback": [
      "\u001b[0;31m---------------------------------------------------------------------------\u001b[0m",
      "\u001b[0;31mTypeError\u001b[0m                                 Traceback (most recent call last)",
      "Cell \u001b[0;32mIn[183], line 1\u001b[0m\n\u001b[0;32m----> 1\u001b[0m \u001b[43mMyClass\u001b[49m\u001b[38;5;241;43m.\u001b[39;49m\u001b[43mmethod\u001b[49m\u001b[43m(\u001b[49m\u001b[43m)\u001b[49m\n",
      "\u001b[0;31mTypeError\u001b[0m: MyClass.method() missing 1 required positional argument: 'self'"
     ]
    }
   ],
   "source": [
    "MyClass.method()"
   ]
  },
  {
   "cell_type": "markdown",
   "id": "57a72364",
   "metadata": {},
   "source": [
    "### Ejemplos de uso"
   ]
  },
  {
   "cell_type": "code",
   "execution_count": 184,
   "id": "f52c33d2",
   "metadata": {},
   "outputs": [],
   "source": [
    "class Pizza:\n",
    "    def __init__(self, ingredients):\n",
    "        self.ingredients = ingredients\n",
    "\n",
    "    def __repr__(self):\n",
    "        return f'Pizza({self.ingredients})'"
   ]
  },
  {
   "cell_type": "code",
   "execution_count": 185,
   "id": "70e8823a",
   "metadata": {},
   "outputs": [],
   "source": [
    "margherita = Pizza(['mozzarella', 'tomatoes'])\n",
    "cheese = Pizza(['mozzarella', 'provolone', 'cheddar', 'Parmesan'])"
   ]
  },
  {
   "cell_type": "code",
   "execution_count": 186,
   "id": "99f9a736",
   "metadata": {},
   "outputs": [
    {
     "data": {
      "text/plain": [
       "Pizza(['mozzarella', 'tomatoes'])"
      ]
     },
     "execution_count": 186,
     "metadata": {},
     "output_type": "execute_result"
    }
   ],
   "source": [
    "margherita"
   ]
  },
  {
   "cell_type": "code",
   "execution_count": 187,
   "id": "2a7e71d3",
   "metadata": {},
   "outputs": [
    {
     "data": {
      "text/plain": [
       "Pizza(['mozzarella', 'provolone', 'cheddar', 'Parmesan'])"
      ]
     },
     "execution_count": 187,
     "metadata": {},
     "output_type": "execute_result"
    }
   ],
   "source": [
    "cheese"
   ]
  },
  {
   "cell_type": "code",
   "execution_count": 188,
   "id": "404c1d4b",
   "metadata": {},
   "outputs": [],
   "source": [
    "class Pizza:\n",
    "    def __init__(self, ingredients):\n",
    "        self.ingredients = ingredients\n",
    "\n",
    "    def __repr__(self):\n",
    "        return f'Pizza({self.ingredients})'\n",
    "    \n",
    "    def create_custom_pizza(self, ingredients):\n",
    "        self.ingredients = ingredients\n",
    "        return self\n",
    "\n",
    "    @classmethod\n",
    "    def margherita(cls):\n",
    "        return cls(['mozzarella', 'tomatoes'])\n",
    "\n",
    "    @classmethod\n",
    "    def cheese(cls):\n",
    "        return cls(['mozzarella', 'provolone', 'cheddar', 'Parmesan'])"
   ]
  },
  {
   "cell_type": "code",
   "execution_count": 190,
   "id": "3a7f66ad",
   "metadata": {},
   "outputs": [],
   "source": [
    "m = Pizza.margherita()"
   ]
  },
  {
   "cell_type": "code",
   "execution_count": 191,
   "id": "fb50a0ba",
   "metadata": {},
   "outputs": [
    {
     "data": {
      "text/plain": [
       "Pizza(['mozzarella', 'tomatoes'])"
      ]
     },
     "execution_count": 191,
     "metadata": {},
     "output_type": "execute_result"
    }
   ],
   "source": [
    "m"
   ]
  },
  {
   "cell_type": "code",
   "execution_count": 192,
   "id": "1a1289d2",
   "metadata": {},
   "outputs": [
    {
     "data": {
      "text/plain": [
       "Pizza(['mozzarella', 'provolone', 'cheddar', 'Parmesan'])"
      ]
     },
     "execution_count": 192,
     "metadata": {},
     "output_type": "execute_result"
    }
   ],
   "source": [
    "Pizza.cheese()"
   ]
  },
  {
   "cell_type": "code",
   "execution_count": 193,
   "id": "67033021",
   "metadata": {},
   "outputs": [],
   "source": [
    "first_pizza = Pizza([])"
   ]
  },
  {
   "cell_type": "code",
   "execution_count": 194,
   "id": "a72c1213",
   "metadata": {},
   "outputs": [
    {
     "data": {
      "text/plain": [
       "[]"
      ]
     },
     "execution_count": 194,
     "metadata": {},
     "output_type": "execute_result"
    }
   ],
   "source": [
    "first_pizza.ingredients"
   ]
  },
  {
   "cell_type": "code",
   "execution_count": 195,
   "id": "21e731b8",
   "metadata": {},
   "outputs": [
    {
     "data": {
      "text/plain": [
       "Pizza(['chicken', 'mozzarella'])"
      ]
     },
     "execution_count": 195,
     "metadata": {},
     "output_type": "execute_result"
    }
   ],
   "source": [
    "first_pizza.create_custom_pizza(['chicken', 'mozzarella'])"
   ]
  },
  {
   "cell_type": "code",
   "execution_count": 196,
   "id": "724fdae9",
   "metadata": {},
   "outputs": [
    {
     "data": {
      "text/plain": [
       "Pizza(['mozzarella', 'tomatoes'])"
      ]
     },
     "execution_count": 196,
     "metadata": {},
     "output_type": "execute_result"
    }
   ],
   "source": [
    "# Podemos mostrar los metodos de clase asociados a la clase Pizza sin cambiar el comportamiento de la instancia\n",
    "first_pizza.margherita()"
   ]
  },
  {
   "cell_type": "code",
   "execution_count": 197,
   "id": "3325c606",
   "metadata": {},
   "outputs": [
    {
     "data": {
      "text/plain": [
       "['chicken', 'mozzarella']"
      ]
     },
     "execution_count": 197,
     "metadata": {},
     "output_type": "execute_result"
    }
   ],
   "source": [
    "first_pizza.ingredients"
   ]
  },
  {
   "cell_type": "code",
   "execution_count": 199,
   "id": "7ab9a28e",
   "metadata": {},
   "outputs": [],
   "source": [
    "# Usando metodos estáticos\n",
    "import math\n",
    "\n",
    "class Pizza:\n",
    "    def __init__(self, radius, ingredients):\n",
    "        self.radius = radius\n",
    "        self.ingredients = ingredients\n",
    "\n",
    "    def __repr__(self):\n",
    "        return (f'Pizza({self.radius}, '\n",
    "                f'{self.ingredients})')\n",
    " \n",
    "    def area(self):\n",
    "        return self.circle_area(self.radius)\n",
    "\n",
    "    @staticmethod\n",
    "    def circle_area(r):\n",
    "        return r ** 2 * math.pi"
   ]
  },
  {
   "cell_type": "code",
   "execution_count": 200,
   "id": "8f7f48b3",
   "metadata": {},
   "outputs": [],
   "source": [
    "p = Pizza(4, ['mozzarella', 'tomatoes'])"
   ]
  },
  {
   "cell_type": "code",
   "execution_count": 201,
   "id": "f2bedb0b",
   "metadata": {},
   "outputs": [
    {
     "data": {
      "text/plain": [
       "50.26548245743669"
      ]
     },
     "execution_count": 201,
     "metadata": {},
     "output_type": "execute_result"
    }
   ],
   "source": [
    "p.area()"
   ]
  },
  {
   "cell_type": "code",
   "execution_count": 202,
   "id": "9cdf46f2",
   "metadata": {},
   "outputs": [
    {
     "data": {
      "text/plain": [
       "50.26548245743669"
      ]
     },
     "execution_count": 202,
     "metadata": {},
     "output_type": "execute_result"
    }
   ],
   "source": [
    "Pizza.circle_area(4)"
   ]
  },
  {
   "cell_type": "code",
   "execution_count": 203,
   "id": "9770e1d2",
   "metadata": {},
   "outputs": [
    {
     "data": {
      "text/plain": [
       "78.53981633974483"
      ]
     },
     "execution_count": 203,
     "metadata": {},
     "output_type": "execute_result"
    }
   ],
   "source": [
    "Pizza.circle_area(5)"
   ]
  },
  {
   "cell_type": "code",
   "execution_count": 204,
   "id": "4680c86e",
   "metadata": {},
   "outputs": [
    {
     "data": {
      "text/plain": [
       "50.26548245743669"
      ]
     },
     "execution_count": 204,
     "metadata": {},
     "output_type": "execute_result"
    }
   ],
   "source": [
    "p.area()"
   ]
  },
  {
   "cell_type": "markdown",
   "id": "33f97cdc",
   "metadata": {},
   "source": [
    "## Dataclasses"
   ]
  },
  {
   "cell_type": "code",
   "execution_count": 205,
   "id": "743e1a4f",
   "metadata": {},
   "outputs": [],
   "source": [
    "from dataclasses import dataclass\n",
    "\n",
    "@dataclass\n",
    "class Position:\n",
    "    name: str\n",
    "    lon: float\n",
    "    lat: float"
   ]
  },
  {
   "cell_type": "code",
   "execution_count": null,
   "id": "8bb38713",
   "metadata": {},
   "outputs": [],
   "source": [
    "class Position:\n",
    "    def __init__(self, name: str, lon: float, lat:float):\n",
    "        self.name = name\n",
    "        self.lon = lon\n",
    "        self.lat = lat\n",
    "        \n",
    "    def __str__(self):\n",
    "        return f\"Position(name='Oslo', lon=10.8, lat=59.9)\""
   ]
  },
  {
   "cell_type": "code",
   "execution_count": 206,
   "id": "5c77f403",
   "metadata": {},
   "outputs": [],
   "source": [
    "pos = Position('Oslo', 10.8, 59.9)"
   ]
  },
  {
   "cell_type": "code",
   "execution_count": 207,
   "id": "30c5701f",
   "metadata": {},
   "outputs": [
    {
     "name": "stdout",
     "output_type": "stream",
     "text": [
      "Position(name='Oslo', lon=10.8, lat=59.9)\n"
     ]
    }
   ],
   "source": [
    "print(pos)"
   ]
  },
  {
   "cell_type": "code",
   "execution_count": 208,
   "id": "9f3ac8ec",
   "metadata": {},
   "outputs": [
    {
     "data": {
      "text/plain": [
       "59.9"
      ]
     },
     "execution_count": 208,
     "metadata": {},
     "output_type": "execute_result"
    }
   ],
   "source": [
    "pos.lat"
   ]
  },
  {
   "cell_type": "markdown",
   "id": "a95b07b0",
   "metadata": {},
   "source": [
    "### Agregando valores por defecto"
   ]
  },
  {
   "cell_type": "code",
   "execution_count": 209,
   "id": "d9afd2b1",
   "metadata": {},
   "outputs": [],
   "source": [
    "from dataclasses import dataclass\n",
    "\n",
    "@dataclass\n",
    "class Position:\n",
    "    name: str\n",
    "    lon: float = 0.0\n",
    "    lat: float = 0.0"
   ]
  },
  {
   "cell_type": "code",
   "execution_count": 210,
   "id": "03e4d66e",
   "metadata": {},
   "outputs": [
    {
     "data": {
      "text/plain": [
       "Position(name='Null Island', lon=0.0, lat=0.0)"
      ]
     },
     "execution_count": 210,
     "metadata": {},
     "output_type": "execute_result"
    }
   ],
   "source": [
    "Position('Null Island')"
   ]
  },
  {
   "cell_type": "code",
   "execution_count": 211,
   "id": "f26af5a0",
   "metadata": {},
   "outputs": [
    {
     "data": {
      "text/plain": [
       "Position(name='Greenwich', lon=0.0, lat=51.8)"
      ]
     },
     "execution_count": 211,
     "metadata": {},
     "output_type": "execute_result"
    }
   ],
   "source": [
    "Position('Greenwich', lat=51.8)"
   ]
  },
  {
   "cell_type": "code",
   "execution_count": 212,
   "id": "b987dc57",
   "metadata": {},
   "outputs": [
    {
     "data": {
      "text/plain": [
       "Position(name='Vancouver', lon=-123.1, lat=49.3)"
      ]
     },
     "execution_count": 212,
     "metadata": {},
     "output_type": "execute_result"
    }
   ],
   "source": [
    "Position('Vancouver', -123.1, 49.3)"
   ]
  },
  {
   "cell_type": "markdown",
   "id": "ddf5f2b2",
   "metadata": {},
   "source": [
    "### Agregando metodos a data classes"
   ]
  },
  {
   "cell_type": "code",
   "execution_count": 216,
   "id": "0ca07da5",
   "metadata": {},
   "outputs": [],
   "source": [
    "from dataclasses import dataclass\n",
    "from math import asin, cos, radians, sin, sqrt\n",
    "\n",
    "@dataclass\n",
    "class Position:\n",
    "    name: str\n",
    "    lon: float = 0.0\n",
    "    lat: float = 0.0\n",
    "\n",
    "    def distance_to(self, other):\n",
    "        r = 6371  # Earth radius in kilometers\n",
    "        lam_1, lam_2 = radians(self.lon), radians(other.lon)\n",
    "        phi_1, phi_2 = radians(self.lat), radians(other.lat)\n",
    "        h = (sin((phi_2 - phi_1) / 2)**2\n",
    "             + cos(phi_1) * cos(phi_2) * sin((lam_2 - lam_1) / 2)**2)\n",
    "        return 2 * r * asin(sqrt(h))"
   ]
  },
  {
   "cell_type": "code",
   "execution_count": 217,
   "id": "a510e62d",
   "metadata": {},
   "outputs": [],
   "source": [
    "oslo = Position('Oslo', 10.8, 59.9)"
   ]
  },
  {
   "cell_type": "code",
   "execution_count": 218,
   "id": "c1c8f3b7",
   "metadata": {},
   "outputs": [],
   "source": [
    "vancouver = Position('Vancouver', -123.1, 49.3)"
   ]
  },
  {
   "cell_type": "code",
   "execution_count": 219,
   "id": "29180e54",
   "metadata": {},
   "outputs": [
    {
     "data": {
      "text/plain": [
       "7181.784122942117"
      ]
     },
     "execution_count": 219,
     "metadata": {},
     "output_type": "execute_result"
    }
   ],
   "source": [
    "oslo.distance_to(vancouver)"
   ]
  },
  {
   "cell_type": "markdown",
   "id": "aa1d84f1",
   "metadata": {},
   "source": [
    "### Clases inmutables"
   ]
  },
  {
   "cell_type": "code",
   "execution_count": 220,
   "id": "44d48fa0",
   "metadata": {},
   "outputs": [],
   "source": [
    "from dataclasses import dataclass\n",
    "\n",
    "@dataclass(frozen=True)\n",
    "class Position:\n",
    "    name: str\n",
    "    lon: float = 0.0\n",
    "    lat: float = 0.0"
   ]
  },
  {
   "cell_type": "code",
   "execution_count": 221,
   "id": "97a4a4eb",
   "metadata": {},
   "outputs": [],
   "source": [
    "pos = Position('Oslo', 10.8, 59.9)"
   ]
  },
  {
   "cell_type": "code",
   "execution_count": 222,
   "id": "a9c4dad7",
   "metadata": {},
   "outputs": [
    {
     "data": {
      "text/plain": [
       "'Oslo'"
      ]
     },
     "execution_count": 222,
     "metadata": {},
     "output_type": "execute_result"
    }
   ],
   "source": [
    "pos.name"
   ]
  },
  {
   "cell_type": "code",
   "execution_count": 223,
   "id": "fe520f9d",
   "metadata": {},
   "outputs": [
    {
     "ename": "FrozenInstanceError",
     "evalue": "cannot assign to field 'name'",
     "output_type": "error",
     "traceback": [
      "\u001b[0;31m---------------------------------------------------------------------------\u001b[0m",
      "\u001b[0;31mFrozenInstanceError\u001b[0m                       Traceback (most recent call last)",
      "Cell \u001b[0;32mIn[223], line 1\u001b[0m\n\u001b[0;32m----> 1\u001b[0m \u001b[43mpos\u001b[49m\u001b[38;5;241;43m.\u001b[39;49m\u001b[43mname\u001b[49m \u001b[38;5;241m=\u001b[39m \u001b[38;5;124m'\u001b[39m\u001b[38;5;124mStockholm\u001b[39m\u001b[38;5;124m'\u001b[39m\n",
      "File \u001b[0;32m<string>:4\u001b[0m, in \u001b[0;36m__setattr__\u001b[0;34m(self, name, value)\u001b[0m\n",
      "\u001b[0;31mFrozenInstanceError\u001b[0m: cannot assign to field 'name'"
     ]
    }
   ],
   "source": [
    "pos.name = 'Stockholm'"
   ]
  },
  {
   "cell_type": "markdown",
   "id": "0ccb37e2",
   "metadata": {},
   "source": [
    "### Herencia"
   ]
  },
  {
   "cell_type": "code",
   "execution_count": 224,
   "id": "1015f244",
   "metadata": {},
   "outputs": [],
   "source": [
    "from dataclasses import dataclass\n",
    "\n",
    "@dataclass\n",
    "class Position:\n",
    "    name: str\n",
    "    lon: float\n",
    "    lat: float\n",
    "\n",
    "@dataclass\n",
    "class Capital(Position):\n",
    "    country: str"
   ]
  },
  {
   "cell_type": "code",
   "execution_count": 227,
   "id": "0862ecbc",
   "metadata": {},
   "outputs": [
    {
     "data": {
      "text/plain": [
       "Capital(name=123123, lon='holi', lat=59.9, country='Norway')"
      ]
     },
     "execution_count": 227,
     "metadata": {},
     "output_type": "execute_result"
    }
   ],
   "source": [
    "Capital(123123, \"holi\", 59.9, 'Norway')"
   ]
  },
  {
   "cell_type": "code",
   "execution_count": null,
   "id": "92e1ae9b",
   "metadata": {},
   "outputs": [],
   "source": []
  }
 ],
 "metadata": {
  "kernelspec": {
   "display_name": "Python 3 (ipykernel)",
   "language": "python",
   "name": "python3"
  },
  "language_info": {
   "codemirror_mode": {
    "name": "ipython",
    "version": 3
   },
   "file_extension": ".py",
   "mimetype": "text/x-python",
   "name": "python",
   "nbconvert_exporter": "python",
   "pygments_lexer": "ipython3",
   "version": "3.11.3"
  }
 },
 "nbformat": 4,
 "nbformat_minor": 5
}
