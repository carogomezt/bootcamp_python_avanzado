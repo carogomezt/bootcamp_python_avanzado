{
 "cells": [
  {
   "cell_type": "markdown",
   "id": "eb49000e",
   "metadata": {},
   "source": [
    "# Bootcamp Python Avanzado\n",
    "## Clase 7: Decoradores\n",
    "## ¿Qué son los decoradores?\n",
    "Son un patrón de diseño en Python que permite agregar funcionalidades a un objeto existente (funciones) sin modificar su estructura.\n"
   ]
  },
  {
   "cell_type": "code",
   "execution_count": 4,
   "id": "0afa2b99",
   "metadata": {},
   "outputs": [],
   "source": [
    "#@example_decorator\n",
    "def test_function():\n",
    "    return \"output\""
   ]
  },
  {
   "cell_type": "markdown",
   "id": "5fa50721",
   "metadata": {},
   "source": [
    "## Cómo trabajan las funciones\n",
    "Las funciones son muy importantes en Python y estas retornan un valor de acuerdo a los argumentos que les pasamos:\n"
   ]
  },
  {
   "cell_type": "code",
   "execution_count": 5,
   "id": "8629a518",
   "metadata": {},
   "outputs": [
    {
     "data": {
      "text/plain": [
       "9"
      ]
     },
     "execution_count": 5,
     "metadata": {},
     "output_type": "execute_result"
    }
   ],
   "source": [
    "def plus_one(number):\n",
    "    return number + 1\n",
    "plus_one(8)"
   ]
  },
  {
   "cell_type": "markdown",
   "id": "e376eafd",
   "metadata": {},
   "source": [
    "### Asignando funciones a variables\n"
   ]
  },
  {
   "cell_type": "code",
   "execution_count": 6,
   "id": "9e292375",
   "metadata": {},
   "outputs": [
    {
     "data": {
      "text/plain": [
       "6"
      ]
     },
     "execution_count": 6,
     "metadata": {},
     "output_type": "execute_result"
    }
   ],
   "source": [
    "def plus_one(number):\n",
    "    return number + 1\n",
    "\n",
    "add_one = plus_one\n",
    "add_one(5)"
   ]
  },
  {
   "cell_type": "markdown",
   "id": "012dfad3",
   "metadata": {},
   "source": [
    "### Definiendo funciones dentro de otras funciones\n"
   ]
  },
  {
   "cell_type": "code",
   "execution_count": 7,
   "id": "df7a5bbc",
   "metadata": {},
   "outputs": [
    {
     "name": "stdout",
     "output_type": "stream",
     "text": [
      "Executing plus_one\n",
      "Executing add_one\n"
     ]
    },
    {
     "data": {
      "text/plain": [
       "5"
      ]
     },
     "execution_count": 7,
     "metadata": {},
     "output_type": "execute_result"
    }
   ],
   "source": [
    "def plus_one(number):\n",
    "    def add_one(number):\n",
    "        print(\"Executing add_one\")\n",
    "        return number + 1\n",
    "\n",
    "    print(\"Executing plus_one\")\n",
    "    result = add_one(number)\n",
    "    return result\n",
    "\n",
    "plus_one(4)"
   ]
  },
  {
   "cell_type": "markdown",
   "id": "55e6ecdb",
   "metadata": {},
   "source": [
    "### Pasando funciones como argumentos de otras funciones\n"
   ]
  },
  {
   "cell_type": "code",
   "execution_count": 8,
   "id": "d5a33a1f",
   "metadata": {},
   "outputs": [
    {
     "name": "stdout",
     "output_type": "stream",
     "text": [
      "Executing function_call\n",
      "Executing plus_one\n"
     ]
    },
    {
     "data": {
      "text/plain": [
       "6"
      ]
     },
     "execution_count": 8,
     "metadata": {},
     "output_type": "execute_result"
    }
   ],
   "source": [
    "def plus_one(number):\n",
    "    print(\"Executing plus_one\")\n",
    "    return number + 1\n",
    "\n",
    "def function_call(function):\n",
    "    print(\"Executing function_call\")\n",
    "    number_to_add = 5\n",
    "    return function(number_to_add)\n",
    "\n",
    "function_call(plus_one)"
   ]
  },
  {
   "cell_type": "markdown",
   "id": "e07a1984",
   "metadata": {},
   "source": [
    "### Funciones retornando otras funciones\n"
   ]
  },
  {
   "cell_type": "code",
   "execution_count": 9,
   "id": "a5657999",
   "metadata": {},
   "outputs": [
    {
     "name": "stdout",
     "output_type": "stream",
     "text": [
      "Executing hello_function\n",
      "Executing say_hi\n"
     ]
    },
    {
     "data": {
      "text/plain": [
       "'Hi'"
      ]
     },
     "execution_count": 9,
     "metadata": {},
     "output_type": "execute_result"
    }
   ],
   "source": [
    "def hello_function():\n",
    "    def say_hi():\n",
    "        print(\"Executing say_hi\")\n",
    "        return \"Hi\"\n",
    "    print(\"Executing hello_function\")\n",
    "    return say_hi\n",
    "\n",
    "hello = hello_function()\n",
    "hello()"
   ]
  },
  {
   "cell_type": "markdown",
   "id": "370d03be",
   "metadata": {},
   "source": [
    "### Las funciones anidadas tienen acceso al las variables de la función envolvente\n"
   ]
  },
  {
   "cell_type": "code",
   "execution_count": 10,
   "id": "247f5ce6",
   "metadata": {},
   "outputs": [
    {
     "name": "stdout",
     "output_type": "stream",
     "text": [
      "Some random message\n"
     ]
    }
   ],
   "source": [
    "def print_message(message):\n",
    "    \"\"\"Enclosing Function\"\"\"\n",
    "\n",
    "    def message_sender():\n",
    "        \"\"\"Nested Function\"\"\"\n",
    "\n",
    "        print(message)\n",
    "\n",
    "    message_sender()\n",
    "\n",
    "print_message(\"Some random message\")"
   ]
  },
  {
   "cell_type": "markdown",
   "id": "adbec593",
   "metadata": {},
   "source": [
    "## Creando decoradores\n"
   ]
  },
  {
   "cell_type": "code",
   "execution_count": 11,
   "id": "35b478d7",
   "metadata": {},
   "outputs": [
    {
     "name": "stdout",
     "output_type": "stream",
     "text": [
      "Something is happening before the function is called.\n",
      "Whee!\n",
      "Something is happening after the function is called.\n"
     ]
    }
   ],
   "source": [
    "def my_decorator(func):\n",
    "    def wrapper():\n",
    "        print(\"Something is happening before the function is called.\")\n",
    "        func()\n",
    "        print(\"Something is happening after the function is called.\")\n",
    "    return wrapper\n",
    "\n",
    "def say_whee():\n",
    "    print(\"Whee!\")\n",
    "\n",
    "say_whee = my_decorator(say_whee)\n",
    "say_whee()"
   ]
  },
  {
   "cell_type": "code",
   "execution_count": 12,
   "id": "552bf9d2",
   "metadata": {},
   "outputs": [
    {
     "name": "stdout",
     "output_type": "stream",
     "text": [
      "Something is happening before the function is called.\n",
      "Whee!\n",
      "Something is happening after the function is called.\n"
     ]
    }
   ],
   "source": [
    "def my_decorator(func):\n",
    "    def wrapper():\n",
    "        print(\"Something is happening before the function is called.\")\n",
    "        func()\n",
    "        print(\"Something is happening after the function is called.\")\n",
    "    return wrapper\n",
    "\n",
    "@my_decorator\n",
    "def say_whee():\n",
    "    print(\"Whee!\")\n",
    "    \n",
    "say_whee()"
   ]
  },
  {
   "cell_type": "markdown",
   "id": "a0675964",
   "metadata": {},
   "source": [
    "### Aplicando multiples decoradores a una misma función\n"
   ]
  },
  {
   "cell_type": "code",
   "execution_count": 16,
   "id": "645e710f",
   "metadata": {},
   "outputs": [],
   "source": [
    "def uppercase_decorator(function):\n",
    "    print(\"Applying uppercase decorator\")\n",
    "    def wrapper():\n",
    "        func = function()\n",
    "        make_uppercase = func.upper()\n",
    "        return make_uppercase\n",
    "\n",
    "    return wrapper"
   ]
  },
  {
   "cell_type": "code",
   "execution_count": 15,
   "id": "a120b306",
   "metadata": {},
   "outputs": [],
   "source": [
    "def split_string(function):\n",
    "    print(\"Applying split decorator\")\n",
    "    def wrapper():\n",
    "        func = function()\n",
    "        splitted_string = func.split()\n",
    "        return splitted_string\n",
    "\n",
    "    return wrapper"
   ]
  },
  {
   "cell_type": "code",
   "execution_count": 17,
   "id": "8e54113c",
   "metadata": {},
   "outputs": [
    {
     "name": "stdout",
     "output_type": "stream",
     "text": [
      "Applying uppercase decorator\n",
      "Applying split decorator\n"
     ]
    },
    {
     "data": {
      "text/plain": [
       "['HELLO', 'THERE']"
      ]
     },
     "execution_count": 17,
     "metadata": {},
     "output_type": "execute_result"
    }
   ],
   "source": [
    "@split_string\n",
    "@uppercase_decorator\n",
    "def say_hi():\n",
    "    return 'hello there'\n",
    "say_hi()"
   ]
  },
  {
   "cell_type": "markdown",
   "id": "a432983a",
   "metadata": {},
   "source": [
    "### Decorando funciones con argumentos\n"
   ]
  },
  {
   "cell_type": "code",
   "execution_count": 18,
   "id": "bad05f17",
   "metadata": {},
   "outputs": [
    {
     "name": "stdout",
     "output_type": "stream",
     "text": [
      "My arguments are: Pereira, Medellín\n",
      "Cities I love are Pereira and Medellín\n"
     ]
    }
   ],
   "source": [
    "def decorator_with_arguments(function):\n",
    "    def wrapper_accepting_arguments(arg1, arg2):\n",
    "        print(f\"My arguments are: {arg1}, {arg2}\")\n",
    "        function(arg1, arg2)\n",
    "    return wrapper_accepting_arguments\n",
    "\n",
    "\n",
    "@decorator_with_arguments\n",
    "def cities(city_one, city_two):\n",
    "    print(f\"Cities I love are {city_one} and {city_two}\")\n",
    "\n",
    "cities(\"Pereira\", \"Medellín\")"
   ]
  },
  {
   "cell_type": "markdown",
   "id": "7ed9cb50",
   "metadata": {},
   "source": [
    "### Definiendo decoradores de propósito general\n"
   ]
  },
  {
   "cell_type": "code",
   "execution_count": 37,
   "id": "cc68609b",
   "metadata": {},
   "outputs": [
    {
     "name": "stdout",
     "output_type": "stream",
     "text": [
      "Showing *args:\n",
      "Arguments of *args: (1, 2, 'Hola')\n",
      "Showing **kwargs:\n",
      "first_name = Carolina\n",
      "last_name = Gomez\n"
     ]
    }
   ],
   "source": [
    "def test_args_and_kwargs(*args, **kwargs):\n",
    "    print(\"Showing *args:\")\n",
    "    for arg in args:\n",
    "        print(\"Arguments of *args:\", arg)\n",
    "    print(\"Showing **kwargs:\")\n",
    "    for key, value in kwargs.items():\n",
    "        print(f\"{key} = {value}\")\n",
    "\n",
    "args = (1, 2, \"Hola\")\n",
    "kwargs = {\"first_name\": \"Carolina\", \"last_name\": \"Gomez\"}\n",
    "test_args_and_kwargs(args, **kwargs)"
   ]
  },
  {
   "cell_type": "code",
   "execution_count": 19,
   "id": "dd0e7f1e",
   "metadata": {},
   "outputs": [
    {
     "name": "stdout",
     "output_type": "stream",
     "text": [
      "The positional arguments are (1, 2, 3)\n",
      "The keyword arguments are {}\n",
      "1 2 3\n"
     ]
    }
   ],
   "source": [
    "def a_decorator_passing_arbitrary_arguments(function_to_decorate):\n",
    "    def a_wrapper_accepting_arbitrary_arguments(*args,**kwargs):\n",
    "        print('The positional arguments are', args)\n",
    "        print('The keyword arguments are', kwargs)\n",
    "        function_to_decorate(*args, **kwargs)\n",
    "    return a_wrapper_accepting_arbitrary_arguments\n",
    "\n",
    "@a_decorator_passing_arbitrary_arguments\n",
    "def function_with_arguments(a, b, c):\n",
    "    print(a, b, c)\n",
    "\n",
    "function_with_arguments(1,2,3)"
   ]
  },
  {
   "cell_type": "code",
   "execution_count": 20,
   "id": "8082be04",
   "metadata": {},
   "outputs": [
    {
     "name": "stdout",
     "output_type": "stream",
     "text": [
      "The positional arguments are ()\n",
      "The keyword arguments are {'first_name': 'Derrick', 'last_name': 'Mwiti'}\n",
      "This has shown keyword arguments: \n",
      "first_name: Derrick\n",
      "last_name: Mwiti\n",
      "country: Colombia\n"
     ]
    }
   ],
   "source": [
    "@a_decorator_passing_arbitrary_arguments\n",
    "def function_with_keyword_arguments(first_name=\"\", last_name=\"\", country=\"Colombia\"):\n",
    "    print(f\"This has shown keyword arguments: \")\n",
    "    print(f\"first_name: {first_name}\")\n",
    "    print(f\"last_name: {last_name}\")\n",
    "    print(f\"country: {country}\")\n",
    "\n",
    "function_with_keyword_arguments(first_name=\"Derrick\", last_name=\"Mwiti\")"
   ]
  },
  {
   "cell_type": "markdown",
   "id": "c0258275",
   "metadata": {},
   "source": [
    "### Pasando argumentos al decorador\n"
   ]
  },
  {
   "cell_type": "code",
   "execution_count": 24,
   "id": "4e959a22",
   "metadata": {},
   "outputs": [
    {
     "name": "stdout",
     "output_type": "stream",
     "text": [
      "The wrapper can access all the variables\n",
      "\t- from the decorator maker: Pandas Numpy Scikit-learn\n",
      "\t- from the function call: Pandas Science Tools\n",
      "and pass them to the decorated function\n",
      "This is the decorated function and it only knows about its arguments: \n",
      "Pandas Science Tools\n"
     ]
    }
   ],
   "source": [
    "def decorator_maker_with_arguments(decorator_arg1, decorator_arg2, decorator_arg3):\n",
    "    def decorator(func):\n",
    "        def wrapper(function_arg1, function_arg2, function_arg3) :\n",
    "            \"\"\"This is the wrapper function\"\"\"\n",
    "            \n",
    "            print(f\"The wrapper can access all the variables\\n\"\n",
    "                  f\"\\t- from the decorator maker: {decorator_arg1} {decorator_arg2} {decorator_arg3}\\n\"\n",
    "                  f\"\\t- from the function call: {function_arg1} {function_arg2} {function_arg3}\\n\"\n",
    "                  f\"and pass them to the decorated function\")\n",
    "            return func(function_arg1, function_arg2, function_arg3)\n",
    "\n",
    "        return wrapper\n",
    "\n",
    "    return decorator\n",
    "\n",
    "pandas = \"Pandas\"\n",
    "@decorator_maker_with_arguments(pandas, \"Numpy\",\"Scikit-learn\")\n",
    "def decorated_function_with_arguments(function_arg1, function_arg2, function_arg3):\n",
    "    print(\"This is the decorated function and it only knows about its arguments: \")\n",
    "    print(f\"{function_arg1} {function_arg2} {function_arg3}\")\n",
    "\n",
    "decorated_function_with_arguments(pandas, \"Science\", \"Tools\")"
   ]
  },
  {
   "cell_type": "markdown",
   "id": "211f63a3",
   "metadata": {},
   "source": [
    "### Debugueando decoradores\n"
   ]
  },
  {
   "cell_type": "code",
   "execution_count": 3,
   "id": "1becd724",
   "metadata": {},
   "outputs": [
    {
     "name": "stdout",
     "output_type": "stream",
     "text": [
      "Hi! You are happy!\n",
      "Function name: speak\n",
      "Function doc: Returns a neutral message\n",
      "Function name with decorator: wrapper\n",
      "Function doc with decorator: None\n"
     ]
    }
   ],
   "source": [
    "# decorator\n",
    "def make_geek_happy(func):\n",
    "    def wrapper():\n",
    "        neutral_message = func()\n",
    "        happy_message = neutral_message + \" You are happy!\"\n",
    "        return happy_message\n",
    "    return wrapper\n",
    "  \n",
    "def speak():\n",
    "    \"\"\"Returns a neutral message\"\"\"\n",
    "    return \"Hi!\"\n",
    "  \n",
    "  \n",
    "# wrapping the function in the decorator\n",
    "# and assigning it to positive_message\n",
    "positive_message = make_geek_happy(speak)\n",
    "  \n",
    "print(positive_message())\n",
    "  \n",
    "print(f\"Function name: {speak.__name__}\") \n",
    "print(f\"Function doc: {speak.__doc__}\") \n",
    "print(f\"Function name with decorator: {positive_message.__name__}\")\n",
    "print(f\"Function doc with decorator: {positive_message.__doc__}\")"
   ]
  },
  {
   "cell_type": "code",
   "execution_count": 4,
   "id": "0c14ce4b",
   "metadata": {},
   "outputs": [
    {
     "name": "stdout",
     "output_type": "stream",
     "text": [
      "Hi! You are happy!\n",
      "Function name: speak\n",
      "Function doc: Returns a neutral message\n",
      "Function name with decorator: speak\n",
      "Function doc with decorator: Returns a neutral message\n"
     ]
    }
   ],
   "source": [
    "\n",
    "# importing the module\n",
    "import functools\n",
    "  \n",
    "# decorator\n",
    "def make_geek_happy(func):\n",
    "    @functools.wraps(func)\n",
    "    def wrapper():\n",
    "        neutral_message = func()\n",
    "        happy_message = neutral_message + \" You are happy!\"\n",
    "        return happy_message\n",
    "    return wrapper\n",
    "  \n",
    "def speak():\n",
    "    \"\"\"Returns a neutral message\"\"\"\n",
    "    return \"Hi!\"\n",
    "  \n",
    "positive_message = make_geek_happy(speak)\n",
    "print(positive_message())\n",
    "  \n",
    "print(f\"Function name: {speak.__name__}\") \n",
    "print(f\"Function doc: {speak.__doc__}\") \n",
    "print(f\"Function name with decorator: {positive_message.__name__}\")\n",
    "print(f\"Function doc with decorator: {positive_message.__doc__}\")"
   ]
  },
  {
   "cell_type": "code",
   "execution_count": null,
   "id": "57c4b89b",
   "metadata": {},
   "outputs": [],
   "source": []
  }
 ],
 "metadata": {
  "kernelspec": {
   "display_name": "Python 3 (ipykernel)",
   "language": "python",
   "name": "python3"
  },
  "language_info": {
   "codemirror_mode": {
    "name": "ipython",
    "version": 3
   },
   "file_extension": ".py",
   "mimetype": "text/x-python",
   "name": "python",
   "nbconvert_exporter": "python",
   "pygments_lexer": "ipython3",
   "version": "3.11.3"
  }
 },
 "nbformat": 4,
 "nbformat_minor": 5
}
