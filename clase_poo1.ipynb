{
 "cells": [
  {
   "cell_type": "markdown",
   "id": "d9f8e035",
   "metadata": {},
   "source": [
    "# Bootcamp Python Avanzado\n",
    "\n",
    "## Clase 11: Programación Orientada a Objetos Parte 1\n",
    "\n",
    "_La programación orientada a objetos es un paradigma de programación que parte del concepto de \"objetos\" como base, los cuales contienen información en forma de campos (a veces también referidos como atributos o propiedades) y código en forma de métodos._\n",
    "\n",
    "_Los objetos son capaces de interactuar y modificar los valores contenidos en sus campos o atributos (estado) a través de sus métodos (comportamiento)._\n",
    "Tomado de: https://es.wikipedia.org/wiki/Programaci%C3%B3n_orientada_a_objetos \n"
   ]
  },
  {
   "cell_type": "markdown",
   "id": "e4c8ff82",
   "metadata": {},
   "source": [
    "## Clases"
   ]
  },
  {
   "cell_type": "code",
   "execution_count": 1,
   "id": "0bde62ff",
   "metadata": {},
   "outputs": [],
   "source": [
    "class Dog:\n",
    "    def __init__(self, name, age):\n",
    "        self.name = name\n",
    "        self.age = age"
   ]
  },
  {
   "cell_type": "markdown",
   "id": "1f02b4c4",
   "metadata": {},
   "source": [
    "## Objetos"
   ]
  },
  {
   "cell_type": "code",
   "execution_count": 2,
   "id": "14e453c6",
   "metadata": {},
   "outputs": [],
   "source": [
    "dog = Dog(\"Abby\", 5)"
   ]
  },
  {
   "cell_type": "code",
   "execution_count": 3,
   "id": "90d375d9",
   "metadata": {},
   "outputs": [
    {
     "data": {
      "text/plain": [
       "<__main__.Dog at 0x1081aeb10>"
      ]
     },
     "execution_count": 3,
     "metadata": {},
     "output_type": "execute_result"
    }
   ],
   "source": [
    "dog"
   ]
  },
  {
   "cell_type": "code",
   "execution_count": 4,
   "id": "cf7ceedf",
   "metadata": {},
   "outputs": [
    {
     "data": {
      "text/plain": [
       "'Abby'"
      ]
     },
     "execution_count": 4,
     "metadata": {},
     "output_type": "execute_result"
    }
   ],
   "source": [
    "dog.name"
   ]
  },
  {
   "cell_type": "markdown",
   "id": "34d6a65b",
   "metadata": {},
   "source": [
    "## Herencia"
   ]
  },
  {
   "cell_type": "code",
   "execution_count": 6,
   "id": "08757ff7",
   "metadata": {},
   "outputs": [],
   "source": [
    "# Definimos una clase padre\n",
    "class Person(object):\n",
    " \n",
    "    # __init__ es conocido como el constructor\n",
    "    def __init__(self, name, id_number):\n",
    "        self.name = name\n",
    "        self.id_number = id_number\n",
    " \n",
    "    def display(self):\n",
    "        print(self.name)\n",
    "        print(self.id_number)\n",
    "         \n",
    "    def details(self):\n",
    "        print(f\"My name is {self.name}\")\n",
    "        print(f\"Id Number: {self.id_number}\")\n",
    "\n",
    "# Creamos una clase hija que hereda de la clase padre\n",
    "class Employee(Person):\n",
    "    def __init__(self, name, id_number, salary, post):\n",
    "        self.salary = salary\n",
    "        self.post = post\n",
    " \n",
    "        # invocando el __init__ de la clase padre\n",
    "        Person.__init__(self, name, id_number)\n",
    "        # Otra forma de invocarlo es con super()\n",
    "        # super().__init__(name, id_number)\n",
    "         \n",
    "    def details(self):\n",
    "        print(f\"My name is {self.name}\")\n",
    "        print(f\"Id Number: {self.id_number}\")\n",
    "        print(f\"Post: {self.post}\")"
   ]
  },
  {
   "cell_type": "code",
   "execution_count": 10,
   "id": "7341c57a",
   "metadata": {},
   "outputs": [],
   "source": [
    "emp1 = Employee(\"Carolina\", 1088331000, 30000, \"Python Developer\")"
   ]
  },
  {
   "cell_type": "code",
   "execution_count": 8,
   "id": "af448491",
   "metadata": {},
   "outputs": [
    {
     "name": "stdout",
     "output_type": "stream",
     "text": [
      "Carolina\n",
      "1088331000\n"
     ]
    }
   ],
   "source": [
    "emp1.display()"
   ]
  },
  {
   "cell_type": "code",
   "execution_count": 11,
   "id": "5f99096b",
   "metadata": {},
   "outputs": [
    {
     "name": "stdout",
     "output_type": "stream",
     "text": [
      "My name is Carolina\n",
      "Id Number: 1088331000\n",
      "Post: Python Developer\n"
     ]
    }
   ],
   "source": [
    "emp1.details()"
   ]
  },
  {
   "cell_type": "code",
   "execution_count": 13,
   "id": "e0829b36",
   "metadata": {},
   "outputs": [
    {
     "name": "stdout",
     "output_type": "stream",
     "text": [
      "(<class '__main__.Employee'>, <class '__main__.Person'>, <class 'object'>)\n"
     ]
    }
   ],
   "source": [
    "# usando MRO (Method Order Resoulution) para saber el orden de búsqueda de los métodos\n",
    "print(Employee.__mro__)"
   ]
  },
  {
   "cell_type": "markdown",
   "id": "e460dc34",
   "metadata": {},
   "source": [
    "## Polimorfismo"
   ]
  },
  {
   "cell_type": "code",
   "execution_count": 15,
   "id": "8f7cf405",
   "metadata": {},
   "outputs": [],
   "source": [
    "class Animal:\n",
    "    def speak(self):\n",
    "        pass\n",
    "\n",
    "class Dog(Animal):\n",
    "    def speak(self):\n",
    "        print(\"Guau!\")\n",
    "\n",
    "class Cat(Animal):\n",
    "    def speak(self):\n",
    "        print(\"Miau!\")"
   ]
  },
  {
   "cell_type": "code",
   "execution_count": 16,
   "id": "b9eef9c6",
   "metadata": {},
   "outputs": [],
   "source": [
    "dog = Dog()"
   ]
  },
  {
   "cell_type": "code",
   "execution_count": 17,
   "id": "1e245815",
   "metadata": {},
   "outputs": [
    {
     "name": "stdout",
     "output_type": "stream",
     "text": [
      "Guau!\n"
     ]
    }
   ],
   "source": [
    "dog.speak()"
   ]
  },
  {
   "cell_type": "code",
   "execution_count": 18,
   "id": "25375e86",
   "metadata": {},
   "outputs": [
    {
     "name": "stdout",
     "output_type": "stream",
     "text": [
      "Miau!\n"
     ]
    }
   ],
   "source": [
    "cat = Cat()\n",
    "cat.speak()"
   ]
  },
  {
   "cell_type": "markdown",
   "id": "1c413a86",
   "metadata": {},
   "source": [
    "## Encapsulamiento"
   ]
  },
  {
   "cell_type": "code",
   "execution_count": 19,
   "id": "a7a9aabc",
   "metadata": {},
   "outputs": [],
   "source": [
    "class Base:\n",
    "    class_attribute = \"Hi\"   # Accesible desde el exterior\n",
    "    __hidden_class_attribute = \"Private Hi\" # No accesible\n",
    "\n",
    "    # No accesible desde el exterior\n",
    "    def __private_method(self):\n",
    "        print(\"Do something\")\n",
    "        self.__variable = 0\n",
    "\n",
    "    # Accesible desde el exterior\n",
    "    def public_method(self):\n",
    "        # El método si es accesible desde el interior\n",
    "        self.__private_method()"
   ]
  },
  {
   "cell_type": "code",
   "execution_count": 20,
   "id": "dd779a51",
   "metadata": {},
   "outputs": [],
   "source": [
    "my_class = Base()"
   ]
  },
  {
   "cell_type": "code",
   "execution_count": 21,
   "id": "234a12f1",
   "metadata": {},
   "outputs": [
    {
     "ename": "AttributeError",
     "evalue": "'Base' object has no attribute '__hidden_class_attribute'",
     "output_type": "error",
     "traceback": [
      "\u001b[0;31m---------------------------------------------------------------------------\u001b[0m",
      "\u001b[0;31mAttributeError\u001b[0m                            Traceback (most recent call last)",
      "Cell \u001b[0;32mIn[21], line 1\u001b[0m\n\u001b[0;32m----> 1\u001b[0m \u001b[43mmy_class\u001b[49m\u001b[38;5;241;43m.\u001b[39;49m\u001b[43m__hidden_class_attribute\u001b[49m  \u001b[38;5;66;03m# Error! El atributo no es accesible\u001b[39;00m\n",
      "\u001b[0;31mAttributeError\u001b[0m: 'Base' object has no attribute '__hidden_class_attribute'"
     ]
    }
   ],
   "source": [
    "my_class.__hidden_class_attribute  # Error! El atributo no es accesible"
   ]
  },
  {
   "cell_type": "code",
   "execution_count": 22,
   "id": "d19ab101",
   "metadata": {},
   "outputs": [
    {
     "ename": "AttributeError",
     "evalue": "'Base' object has no attribute '__private_method'",
     "output_type": "error",
     "traceback": [
      "\u001b[0;31m---------------------------------------------------------------------------\u001b[0m",
      "\u001b[0;31mAttributeError\u001b[0m                            Traceback (most recent call last)",
      "Cell \u001b[0;32mIn[22], line 1\u001b[0m\n\u001b[0;32m----> 1\u001b[0m \u001b[43mmy_class\u001b[49m\u001b[38;5;241;43m.\u001b[39;49m\u001b[43m__private_method\u001b[49m()     \u001b[38;5;66;03m# Error! El método no es accesible\u001b[39;00m\n",
      "\u001b[0;31mAttributeError\u001b[0m: 'Base' object has no attribute '__private_method'"
     ]
    }
   ],
   "source": [
    "my_class.__private_method()     # Error! El método no es accesible"
   ]
  },
  {
   "cell_type": "code",
   "execution_count": 25,
   "id": "e68434ad",
   "metadata": {},
   "outputs": [
    {
     "data": {
      "text/plain": [
       "'Hi'"
      ]
     },
     "execution_count": 25,
     "metadata": {},
     "output_type": "execute_result"
    }
   ],
   "source": [
    "my_class.class_attribute\n"
   ]
  },
  {
   "cell_type": "code",
   "execution_count": 26,
   "id": "c419da95",
   "metadata": {},
   "outputs": [
    {
     "name": "stdout",
     "output_type": "stream",
     "text": [
      "Do something\n"
     ]
    }
   ],
   "source": [
    "my_class.public_method()"
   ]
  },
  {
   "cell_type": "markdown",
   "id": "74194eb6",
   "metadata": {},
   "source": [
    "## Abstracción"
   ]
  },
  {
   "cell_type": "markdown",
   "id": "25842abf",
   "metadata": {},
   "source": [
    "### Creando interfaces informales"
   ]
  },
  {
   "cell_type": "code",
   "execution_count": 43,
   "id": "526710a8",
   "metadata": {},
   "outputs": [],
   "source": [
    "# Definiendo la clase abstracta o interfaz\n",
    "class RemoteControl:\n",
    "    def next_channel(self):\n",
    "        pass\n",
    "\n",
    "    def prev_channel(self):\n",
    "        pass\n",
    "\n",
    "    def turn_up_volume(self):\n",
    "        pass\n",
    "\n",
    "    def turn_down_volume(self):\n",
    "        pass"
   ]
  },
  {
   "cell_type": "code",
   "execution_count": 44,
   "id": "dcc09427",
   "metadata": {},
   "outputs": [],
   "source": [
    "# Definiendo una implementacion especifica de la interfaz\n",
    "class SamsungRemoteControl(RemoteControl):\n",
    "    def next_channel(self):\n",
    "        print(\"Samsung->Next\")\n",
    "\n",
    "    def prev_channel(self):\n",
    "        print(\"Samsung->Previous\")\n",
    "\n",
    "    def turn_up_volume(self):\n",
    "        print(\"Samsung->Turn Up Volume\")\n",
    "\n",
    "    def turn_down_volume(self):\n",
    "        print(\"Samsung->Turn Down Volume\")\n",
    "\n",
    "class LGRemoteControl(RemoteControl):\n",
    "    def next_channel(self):\n",
    "        print(\"LG->Next\")\n",
    "\n",
    "    def prev_channel(self):\n",
    "        print(\"LG->Previous\")\n",
    "\n",
    "    def turn_up_volume(self):\n",
    "        print(\"LG->Turn Up Volume\")\n",
    "\n",
    "    def turn_down_volume(self):\n",
    "        print(\"LG->Turn Down Volume\")"
   ]
  },
  {
   "cell_type": "code",
   "execution_count": 31,
   "id": "e7c219b1",
   "metadata": {},
   "outputs": [],
   "source": [
    "lg = LGRemoteControl()"
   ]
  },
  {
   "cell_type": "code",
   "execution_count": 32,
   "id": "800a0f8d",
   "metadata": {},
   "outputs": [
    {
     "name": "stdout",
     "output_type": "stream",
     "text": [
      "LG->Next\n"
     ]
    }
   ],
   "source": [
    "lg.next_channel()"
   ]
  },
  {
   "cell_type": "markdown",
   "id": "3906f463",
   "metadata": {},
   "source": [
    "### Creando interfaces formales"
   ]
  },
  {
   "cell_type": "code",
   "execution_count": 50,
   "id": "8de9124c",
   "metadata": {},
   "outputs": [],
   "source": [
    "from abc import abstractmethod\n",
    "from abc import ABCMeta\n",
    "\n",
    "\n",
    "class RemoteControlAbs(metaclass=ABCMeta):\n",
    "    @abstractmethod\n",
    "    def next_channel(self):\n",
    "        pass\n",
    "    \n",
    "    @abstractmethod\n",
    "    def prev_channel(self):\n",
    "        pass\n",
    "    \n",
    "    @abstractmethod\n",
    "    def turn_up_volume(self):\n",
    "        pass\n",
    "    \n",
    "    @abstractmethod\n",
    "    def turn_down_volume(self):\n",
    "        pass"
   ]
  },
  {
   "cell_type": "code",
   "execution_count": 51,
   "id": "f21b6b80",
   "metadata": {},
   "outputs": [
    {
     "ename": "TypeError",
     "evalue": "Can't instantiate abstract class RemoteControlAbs with abstract methods next_channel, prev_channel, turn_down_volume, turn_up_volume",
     "output_type": "error",
     "traceback": [
      "\u001b[0;31m---------------------------------------------------------------------------\u001b[0m",
      "\u001b[0;31mTypeError\u001b[0m                                 Traceback (most recent call last)",
      "Cell \u001b[0;32mIn[51], line 1\u001b[0m\n\u001b[0;32m----> 1\u001b[0m rc \u001b[38;5;241m=\u001b[39m \u001b[43mRemoteControlAbs\u001b[49m\u001b[43m(\u001b[49m\u001b[43m)\u001b[49m\n",
      "\u001b[0;31mTypeError\u001b[0m: Can't instantiate abstract class RemoteControlAbs with abstract methods next_channel, prev_channel, turn_down_volume, turn_up_volume"
     ]
    }
   ],
   "source": [
    "rc = RemoteControlAbs()"
   ]
  },
  {
   "cell_type": "code",
   "execution_count": 52,
   "id": "90738477",
   "metadata": {},
   "outputs": [],
   "source": [
    "class SamsungRemoteControl(RemoteControlAbs):\n",
    "    def next_channel(self):\n",
    "        print(\"Samsung->Next\")\n",
    "\n",
    "    def prev_channel(self):\n",
    "        print(\"Samsung->Previous\")\n",
    "\n",
    "    def turn_up_volume(self):\n",
    "        print(\"Samsung->Turn Up Volume\")\n",
    "\n",
    "    def turn_down_volume(self):\n",
    "        print(\"Samsung->Turn Down Volume\")\n"
   ]
  },
  {
   "cell_type": "code",
   "execution_count": 53,
   "id": "0584859e",
   "metadata": {},
   "outputs": [],
   "source": [
    "samsung_rm = SamsungRemoteControl()"
   ]
  },
  {
   "cell_type": "code",
   "execution_count": 54,
   "id": "22c845d9",
   "metadata": {},
   "outputs": [
    {
     "name": "stdout",
     "output_type": "stream",
     "text": [
      "Samsung->Turn Up Volume\n"
     ]
    }
   ],
   "source": [
    "samsung_rm.turn_up_volume()"
   ]
  },
  {
   "cell_type": "code",
   "execution_count": 55,
   "id": "a0f723ea",
   "metadata": {},
   "outputs": [],
   "source": [
    "class LGRemoteControl(RemoteControlAbs):\n",
    "    def next_channel(self):\n",
    "        print(\"LG->Next\")\n",
    "\n",
    "    def prev_channel(self):\n",
    "        print(\"LG->Previous\")\n",
    "\n",
    "    def turn_down_volume(self):\n",
    "        print(\"LG->Turn Down Volume\")"
   ]
  },
  {
   "cell_type": "code",
   "execution_count": 56,
   "id": "ca13f26c",
   "metadata": {},
   "outputs": [
    {
     "ename": "TypeError",
     "evalue": "Can't instantiate abstract class LGRemoteControl with abstract method turn_up_volume",
     "output_type": "error",
     "traceback": [
      "\u001b[0;31m---------------------------------------------------------------------------\u001b[0m",
      "\u001b[0;31mTypeError\u001b[0m                                 Traceback (most recent call last)",
      "Cell \u001b[0;32mIn[56], line 1\u001b[0m\n\u001b[0;32m----> 1\u001b[0m lg_rm \u001b[38;5;241m=\u001b[39m \u001b[43mLGRemoteControl\u001b[49m\u001b[43m(\u001b[49m\u001b[43m)\u001b[49m\n",
      "\u001b[0;31mTypeError\u001b[0m: Can't instantiate abstract class LGRemoteControl with abstract method turn_up_volume"
     ]
    }
   ],
   "source": [
    "lg_rm = LGRemoteControl()"
   ]
  },
  {
   "cell_type": "markdown",
   "id": "3bcf65fe",
   "metadata": {},
   "source": [
    "### Clases Virtuales"
   ]
  },
  {
   "cell_type": "code",
   "execution_count": 57,
   "id": "9130fa42",
   "metadata": {},
   "outputs": [
    {
     "name": "stdout",
     "output_type": "stream",
     "text": [
      "True\n"
     ]
    }
   ],
   "source": [
    "class ClassA:\n",
    "    pass\n",
    "\n",
    "class ClassB(ClassA):\n",
    "    pass\n",
    "\n",
    "print(issubclass(ClassB, ClassA))\n"
   ]
  },
  {
   "cell_type": "code",
   "execution_count": 58,
   "id": "74406343",
   "metadata": {},
   "outputs": [
    {
     "data": {
      "text/plain": [
       "float"
      ]
     },
     "execution_count": 58,
     "metadata": {},
     "output_type": "execute_result"
    }
   ],
   "source": [
    "from abc import ABCMeta\n",
    "\n",
    "class FloatABC(metaclass=ABCMeta):\n",
    "    pass\n",
    "\n",
    "FloatABC.register(float)"
   ]
  },
  {
   "cell_type": "code",
   "execution_count": 59,
   "id": "eb700359",
   "metadata": {},
   "outputs": [
    {
     "name": "stdout",
     "output_type": "stream",
     "text": [
      "True\n"
     ]
    }
   ],
   "source": [
    "print(issubclass(float, FloatABC))"
   ]
  },
  {
   "cell_type": "code",
   "execution_count": 61,
   "id": "8dda69a0",
   "metadata": {},
   "outputs": [
    {
     "name": "stdout",
     "output_type": "stream",
     "text": [
      "True\n"
     ]
    }
   ],
   "source": [
    "# Tambien funciona para clases definidas por nosotros\n",
    "@FloatABC.register\n",
    "class MyFloat():\n",
    "    pass\n",
    "\n",
    "x = MyFloat()\n",
    "print(issubclass(MyFloat, FloatABC))"
   ]
  },
  {
   "cell_type": "code",
   "execution_count": null,
   "id": "0602e8ae",
   "metadata": {},
   "outputs": [],
   "source": []
  }
 ],
 "metadata": {
  "kernelspec": {
   "display_name": "Python 3 (ipykernel)",
   "language": "python",
   "name": "python3"
  },
  "language_info": {
   "codemirror_mode": {
    "name": "ipython",
    "version": 3
   },
   "file_extension": ".py",
   "mimetype": "text/x-python",
   "name": "python",
   "nbconvert_exporter": "python",
   "pygments_lexer": "ipython3",
   "version": "3.11.3"
  }
 },
 "nbformat": 4,
 "nbformat_minor": 5
}
